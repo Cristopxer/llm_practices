{
 "cells": [
  {
   "cell_type": "markdown",
   "id": "48407767",
   "metadata": {},
   "source": [
    "## Chain using LangGraph"
   ]
  },
  {
   "cell_type": "code",
   "execution_count": 1,
   "id": "b2efd556",
   "metadata": {},
   "outputs": [],
   "source": [
    "from dotenv import load_dotenv\n",
    "import os\n",
    "load_dotenv(\"./.env\")\n",
    "\n",
    "os.environ['GROQ_API_KEY'] = os.getenv(\"GROQ_API_KEY\")"
   ]
  },
  {
   "cell_type": "code",
   "execution_count": 8,
   "id": "f9b30428",
   "metadata": {},
   "outputs": [
    {
     "name": "stdout",
     "output_type": "stream",
     "text": [
      "==================================\u001b[1m Ai Message \u001b[0m==================================\n",
      "Name: LLMModel\n",
      "\n",
      "Please tell how can I help\n",
      "================================\u001b[1m Human Message \u001b[0m=================================\n",
      "Name: Cris\n",
      "\n",
      "I want to learn coding\n",
      "==================================\u001b[1m Ai Message \u001b[0m==================================\n",
      "Name: LLMModel\n",
      "\n",
      "Please tell which programming language you want to know\n",
      "================================\u001b[1m Human Message \u001b[0m=================================\n",
      "Name: LLMModel\n",
      "\n",
      "I want to learn C++ language\n"
     ]
    }
   ],
   "source": [
    "from langchain_core.messages import AIMessage, HumanMessage\n",
    "from pprint import pprint\n",
    "\n",
    "messages = [AIMessage(content=f\"Please tell how can I help\", name=\"LLMModel\")]\n",
    "messages.append(HumanMessage(content=f\"I want to learn coding\", name=\"Cris\"))\n",
    "messages.append(AIMessage(content=f\"Please tell which programming language you want to know\", name=\"LLMModel\"))\n",
    "messages.append(HumanMessage(content=f\"I want to learn C++ language\", name=\"LLMModel\"))\n",
    "\n",
    "for message in messages:\n",
    "    message.pretty_print()"
   ]
  },
  {
   "cell_type": "code",
   "execution_count": 2,
   "id": "158d4bda",
   "metadata": {},
   "outputs": [],
   "source": [
    "from langchain_groq import ChatGroq\n",
    "\n",
    "llm = ChatGroq(model=\"openai/gpt-oss-20b\")"
   ]
  },
  {
   "cell_type": "code",
   "execution_count": 7,
   "id": "eb7693f8",
   "metadata": {},
   "outputs": [
    {
     "data": {
      "text/plain": [
       "'### 🚀 Quick‑Start Roadmap for Learning C++ (2025)\\n\\n| Stage | What you’ll learn | Why it matters | Suggested resources | Practice ideas |\\n|-------|-------------------|----------------|---------------------|----------------|\\n| **1️⃣ Setup & Basics** | Install a compiler, IDE, and write “Hello, World!” | You need a working environment and the syntax of C++ fundamentals. | • **IDE**: Visual Studio Code (VS\\u202fCode) + C/C++ extension<br>• **Compiler**: GCC (Linux/macOS) or MSVC (Windows)<br>• **Tutorial**: “C++ Primer” – Chapters 1‑3 or the free **cppreference.com** “Getting Started” guide | Write a program that prints your name, age, and a short message. |\\n| **2️⃣ Core Language Features** | Variables, data types, operators, control flow, functions, arrays, pointers, references | These are the building blocks of every C++ program. | • **Book**: *C++ Primer* (Chapters 4‑8)<br>• **Online**: **LearnCpp.com** (chapters 4‑12)<br>• **Video**: “C++ Programming Basics” (YouTube – freeCodeCamp) | Create a simple calculator that takes two numbers and an operator (+, -, *, /). |\\n| **3️⃣ Object‑Oriented Programming (OOP)** | Classes, objects, encapsulation, inheritance, polymorphism, constructors/destructors | C++ shines in systems programming and game dev because of OOP. | • **Book**: *Effective Modern C++* (Section on OOP)<br>• **Course**: “Object-Oriented Programming in C++” (Coursera, Udemy) | Build a tiny “Bank Account” system: deposit, withdraw, balance, interest. |\\n| **4️⃣ Modern C++ (C++17/20/23)** | `auto`, range‑based loops, smart pointers (`std::unique_ptr`, `std::shared_ptr`), STL containers, lambdas, `std::optional`, `std::variant`, `constexpr` | Modern C++ reduces boilerplate, improves safety, and boosts performance. | • **Book**: *The C++ Programming Language, 5th Edition* (Modern C++ chapters)<br>• **Blog**: “The Modern C++ Handbook” (https://modern-cpp.org)<br>• **Video**: “C++17 Features” (Bobby G) | Rewrite your calculator using `std::vector` for inputs and `std::function` for operations. |\\n| **5️⃣ Memory Management & Performance** | Stack vs heap, RAII, move semantics, `std::move`, `std::swap`, cache‑friendly data structures | C++ is used in high‑performance domains; understanding memory is essential. | • **Book**: *Effective Modern C++* – “Move semantics” and “RAII” chapters<br>• **Tutorial**: “C++ Memory Management” (cppreference.com) | Implement a simple `Vector` class that resizes dynamically (like `std::vector`). |\\n| **6️⃣ Standard Library Mastery** | `<algorithm>`, `<numeric>`, `<thread>`, `<future>`, `<filesystem>`, `<chrono>`, `<regex>` | The STL is your best friend; it saves you from reinventing the wheel. | • **Book**: *C++ Standard Library – The Complete Reference* (O’Reilly)<br>• **Online**: cppreference.com “Algorithms” section | Sort a list of random numbers, find the median, and time the operation with `<chrono>`. |\\n| **7️⃣ Build Tools & CI** | CMake, Makefile, Git, GitHub Actions | Real projects need reproducible builds and version control. | • **Tutorial**: “CMake for C++” (CMake.org) <br>• **Guide**: “Git Basics” (GitHub Docs) | Create a small library (e.g., a math library), add a CMakeLists.txt, push to GitHub, and set up a GitHub Actions workflow to run tests. |\\n| **8️⃣ Testing & Debugging** | Unit tests (`GoogleTest`), assertions, debugging with GDB/LLDB, sanitizers | Bugs are inevitable; learning to find and fix them is vital. | • **Book**: *C++ Testing with GoogleTest* (Meyers) <br>• **Video**: “Debugging C++ with GDB” (YouTube) | Write tests for your `Vector` class, run them with `make test`, and debug a failing test. |\\n| **9️⃣ Real‑World Projects** | Build a console game, a simple file‑based database, or a tiny web server using sockets | Projects cement concepts and show you how to tackle bigger problems. | • **Guide**: “Build a C++ Game Engine” (YouTube – TheCherno) <br>• **Project**: “Create a Command‑Line To‑Do App” (GitHub) | Develop a “Todo” CLI app that stores tasks in a text file, supports add/remove/list, and uses `std::filesystem`. |\\n| **🔟 Keep Learning** | Design patterns, concurrency, networking, template metaprogramming | C++ is deep; staying updated keeps you competitive. | • **Book**: *Design Patterns in C++* (Bjarne Stroustrup) <br>• **Course**: “Concurrency in Modern C++” (Pluralsight) | Contribute to an open‑source C++ library on GitHub; this will expose you to real‑world codebases. |\\n\\n---\\n\\n## 🌟 Your First Mini‑Project: “Personal Finance Tracker”\\n\\n1. **Goal**: Store transactions (date, description, amount) in a file; read, add, list, and calculate the balance.\\n2. **Why?** It covers:\\n   - File I/O (`std::ifstream`, `std::ofstream`)\\n   - Containers (`std::vector`)\\n   - Algorithms (`std::sort`, `std::accumulate`)\\n   - Classes & objects\\n   - Modern C++ features (`std::string_view`, `auto`, `std::optional`)\\n3. **Step‑by‑step**:\\n   1. Define a `Transaction` struct with `std::string date`, `description`, `double amount`.\\n   2. Create a `FinanceTracker` class that holds a `std::vector<Transaction>`.\\n   3. Implement `loadFromFile(const std::string&)` and `saveToFile(const std::string&)`.\\n   4. Add methods: `addTransaction`, `listTransactions`, `calculateBalance`.\\n   5. Write a `main()` that shows a menu: 1) Add, 2) List, 3) Balance, 4) Exit.\\n4. **Tools**:\\n   - Use CMake: `cmake_minimum_required(VERSION 3.20)` etc.\\n   - Add a `tests/` folder with a few GoogleTest cases.\\n\\n---\\n\\n## 📚 Suggested Reading List (All Free or Low Cost)\\n\\n| Title | Link | Focus |\\n|-------|------|-------|\\n| *C++ Primer* (5th Edition) | https://www.amazon.com/C-Primer-5th-Stanley-B-Lippman/dp/0321714113 | Fundamentals |\\n| *Effective Modern C++* | https://www.amazon.com/Effective-Modern-Specific-Ways-Improve/dp/1491903996 | Modern C++ best practices |\\n| *The C++ Programming Language* | https://www.amazon.com/Programming-Language-5th-Bjarne-Stroustrup/dp/0321563840 | Comprehensive |\\n| *C++ Standard Library* | https://www.amazon.com/C-Standard-Library-Complete-Reference/dp/0596007698 | STL deep dive |\\n| *C++ Concurrency in Action* | https://www.amazon.com/Concurrency-Action-Second-Jeffrey-Scott/dp/1617294695 | Threading & async |\\n\\n---\\n\\n## 🎥 Video Series (Free)\\n\\n| Platform | Course | Highlights |\\n|----------|--------|------------|\\n| YouTube – freeCodeCamp | “C++ Full Course” (10+ hours) | Complete beginner to intermediate |\\n| YouTube – The Cherno | “C++ Programming” | Modern C++ with practical projects |\\n| Pluralsight | “C++ Fundamentals” (Trial) | Structured, interactive learning |\\n\\n---\\n\\n## 📅 Sample 4‑Week Schedule (Part‑time)\\n\\n| Week | Focus | Time/Day |\\n|------|-------|----------|\\n| 1 | Setup + Basics | 2\\u202fhrs/day (Mon‑Fri) |\\n| 2 | Core language + OOP | 2\\u202fhrs/day |\\n| 3 | Modern C++ + STL | 2\\u202fhrs/day |\\n| 4 | Project + Build tools | 2\\u202fhrs/day |\\n\\nAdjust based on your pace. Consistency beats intensity.\\n\\n---\\n\\n## 🤝 Next Steps\\n\\n1. **Pick an IDE** (VS\\u202fCode + C++ extension is lightweight and cross‑platform).\\n2. **Write your first “Hello, World!”** and confirm the compiler works.\\n3. **Start the “Personal Finance Tracker”** as outlined above.\\n4. **Ask questions**: What specific topic confuses you? Want a deeper dive into templates? Need help setting up CMake?\\n\\nFeel free to drop a question or a milestone you hit—happy to help you debug or expand!'"
      ]
     },
     "execution_count": 7,
     "metadata": {},
     "output_type": "execute_result"
    }
   ],
   "source": [
    "response = llm.invoke(messages)\n",
    "response.content"
   ]
  },
  {
   "cell_type": "code",
   "execution_count": 8,
   "id": "00706ffc",
   "metadata": {},
   "outputs": [
    {
     "name": "stdout",
     "output_type": "stream",
     "text": [
      "### 🚀 Quick‑Start Roadmap for Learning C++ (2025)\n",
      "\n",
      "| Stage | What you’ll learn | Why it matters | Suggested resources | Practice ideas |\n",
      "|-------|-------------------|----------------|---------------------|----------------|\n",
      "| **1️⃣ Setup & Basics** | Install a compiler, IDE, and write “Hello, World!” | You need a working environment and the syntax of C++ fundamentals. | • **IDE**: Visual Studio Code (VS Code) + C/C++ extension<br>• **Compiler**: GCC (Linux/macOS) or MSVC (Windows)<br>• **Tutorial**: “C++ Primer” – Chapters 1‑3 or the free **cppreference.com** “Getting Started” guide | Write a program that prints your name, age, and a short message. |\n",
      "| **2️⃣ Core Language Features** | Variables, data types, operators, control flow, functions, arrays, pointers, references | These are the building blocks of every C++ program. | • **Book**: *C++ Primer* (Chapters 4‑8)<br>• **Online**: **LearnCpp.com** (chapters 4‑12)<br>• **Video**: “C++ Programming Basics” (YouTube – freeCodeCamp) | Create a simple calculator that takes two numbers and an operator (+, -, *, /). |\n",
      "| **3️⃣ Object‑Oriented Programming (OOP)** | Classes, objects, encapsulation, inheritance, polymorphism, constructors/destructors | C++ shines in systems programming and game dev because of OOP. | • **Book**: *Effective Modern C++* (Section on OOP)<br>• **Course**: “Object-Oriented Programming in C++” (Coursera, Udemy) | Build a tiny “Bank Account” system: deposit, withdraw, balance, interest. |\n",
      "| **4️⃣ Modern C++ (C++17/20/23)** | `auto`, range‑based loops, smart pointers (`std::unique_ptr`, `std::shared_ptr`), STL containers, lambdas, `std::optional`, `std::variant`, `constexpr` | Modern C++ reduces boilerplate, improves safety, and boosts performance. | • **Book**: *The C++ Programming Language, 5th Edition* (Modern C++ chapters)<br>• **Blog**: “The Modern C++ Handbook” (https://modern-cpp.org)<br>• **Video**: “C++17 Features” (Bobby G) | Rewrite your calculator using `std::vector` for inputs and `std::function` for operations. |\n",
      "| **5️⃣ Memory Management & Performance** | Stack vs heap, RAII, move semantics, `std::move`, `std::swap`, cache‑friendly data structures | C++ is used in high‑performance domains; understanding memory is essential. | • **Book**: *Effective Modern C++* – “Move semantics” and “RAII” chapters<br>• **Tutorial**: “C++ Memory Management” (cppreference.com) | Implement a simple `Vector` class that resizes dynamically (like `std::vector`). |\n",
      "| **6️⃣ Standard Library Mastery** | `<algorithm>`, `<numeric>`, `<thread>`, `<future>`, `<filesystem>`, `<chrono>`, `<regex>` | The STL is your best friend; it saves you from reinventing the wheel. | • **Book**: *C++ Standard Library – The Complete Reference* (O’Reilly)<br>• **Online**: cppreference.com “Algorithms” section | Sort a list of random numbers, find the median, and time the operation with `<chrono>`. |\n",
      "| **7️⃣ Build Tools & CI** | CMake, Makefile, Git, GitHub Actions | Real projects need reproducible builds and version control. | • **Tutorial**: “CMake for C++” (CMake.org) <br>• **Guide**: “Git Basics” (GitHub Docs) | Create a small library (e.g., a math library), add a CMakeLists.txt, push to GitHub, and set up a GitHub Actions workflow to run tests. |\n",
      "| **8️⃣ Testing & Debugging** | Unit tests (`GoogleTest`), assertions, debugging with GDB/LLDB, sanitizers | Bugs are inevitable; learning to find and fix them is vital. | • **Book**: *C++ Testing with GoogleTest* (Meyers) <br>• **Video**: “Debugging C++ with GDB” (YouTube) | Write tests for your `Vector` class, run them with `make test`, and debug a failing test. |\n",
      "| **9️⃣ Real‑World Projects** | Build a console game, a simple file‑based database, or a tiny web server using sockets | Projects cement concepts and show you how to tackle bigger problems. | • **Guide**: “Build a C++ Game Engine” (YouTube – TheCherno) <br>• **Project**: “Create a Command‑Line To‑Do App” (GitHub) | Develop a “Todo” CLI app that stores tasks in a text file, supports add/remove/list, and uses `std::filesystem`. |\n",
      "| **🔟 Keep Learning** | Design patterns, concurrency, networking, template metaprogramming | C++ is deep; staying updated keeps you competitive. | • **Book**: *Design Patterns in C++* (Bjarne Stroustrup) <br>• **Course**: “Concurrency in Modern C++” (Pluralsight) | Contribute to an open‑source C++ library on GitHub; this will expose you to real‑world codebases. |\n",
      "\n",
      "---\n",
      "\n",
      "## 🌟 Your First Mini‑Project: “Personal Finance Tracker”\n",
      "\n",
      "1. **Goal**: Store transactions (date, description, amount) in a file; read, add, list, and calculate the balance.\n",
      "2. **Why?** It covers:\n",
      "   - File I/O (`std::ifstream`, `std::ofstream`)\n",
      "   - Containers (`std::vector`)\n",
      "   - Algorithms (`std::sort`, `std::accumulate`)\n",
      "   - Classes & objects\n",
      "   - Modern C++ features (`std::string_view`, `auto`, `std::optional`)\n",
      "3. **Step‑by‑step**:\n",
      "   1. Define a `Transaction` struct with `std::string date`, `description`, `double amount`.\n",
      "   2. Create a `FinanceTracker` class that holds a `std::vector<Transaction>`.\n",
      "   3. Implement `loadFromFile(const std::string&)` and `saveToFile(const std::string&)`.\n",
      "   4. Add methods: `addTransaction`, `listTransactions`, `calculateBalance`.\n",
      "   5. Write a `main()` that shows a menu: 1) Add, 2) List, 3) Balance, 4) Exit.\n",
      "4. **Tools**:\n",
      "   - Use CMake: `cmake_minimum_required(VERSION 3.20)` etc.\n",
      "   - Add a `tests/` folder with a few GoogleTest cases.\n",
      "\n",
      "---\n",
      "\n",
      "## 📚 Suggested Reading List (All Free or Low Cost)\n",
      "\n",
      "| Title | Link | Focus |\n",
      "|-------|------|-------|\n",
      "| *C++ Primer* (5th Edition) | https://www.amazon.com/C-Primer-5th-Stanley-B-Lippman/dp/0321714113 | Fundamentals |\n",
      "| *Effective Modern C++* | https://www.amazon.com/Effective-Modern-Specific-Ways-Improve/dp/1491903996 | Modern C++ best practices |\n",
      "| *The C++ Programming Language* | https://www.amazon.com/Programming-Language-5th-Bjarne-Stroustrup/dp/0321563840 | Comprehensive |\n",
      "| *C++ Standard Library* | https://www.amazon.com/C-Standard-Library-Complete-Reference/dp/0596007698 | STL deep dive |\n",
      "| *C++ Concurrency in Action* | https://www.amazon.com/Concurrency-Action-Second-Jeffrey-Scott/dp/1617294695 | Threading & async |\n",
      "\n",
      "---\n",
      "\n",
      "## 🎥 Video Series (Free)\n",
      "\n",
      "| Platform | Course | Highlights |\n",
      "|----------|--------|------------|\n",
      "| YouTube – freeCodeCamp | “C++ Full Course” (10+ hours) | Complete beginner to intermediate |\n",
      "| YouTube – The Cherno | “C++ Programming” | Modern C++ with practical projects |\n",
      "| Pluralsight | “C++ Fundamentals” (Trial) | Structured, interactive learning |\n",
      "\n",
      "---\n",
      "\n",
      "## 📅 Sample 4‑Week Schedule (Part‑time)\n",
      "\n",
      "| Week | Focus | Time/Day |\n",
      "|------|-------|----------|\n",
      "| 1 | Setup + Basics | 2 hrs/day (Mon‑Fri) |\n",
      "| 2 | Core language + OOP | 2 hrs/day |\n",
      "| 3 | Modern C++ + STL | 2 hrs/day |\n",
      "| 4 | Project + Build tools | 2 hrs/day |\n",
      "\n",
      "Adjust based on your pace. Consistency beats intensity.\n",
      "\n",
      "---\n",
      "\n",
      "## 🤝 Next Steps\n",
      "\n",
      "1. **Pick an IDE** (VS Code + C++ extension is lightweight and cross‑platform).\n",
      "2. **Write your first “Hello, World!”** and confirm the compiler works.\n",
      "3. **Start the “Personal Finance Tracker”** as outlined above.\n",
      "4. **Ask questions**: What specific topic confuses you? Want a deeper dive into templates? Need help setting up CMake?\n",
      "\n",
      "Feel free to drop a question or a milestone you hit—happy to help you debug or expand!\n"
     ]
    }
   ],
   "source": [
    "print(response.content)"
   ]
  },
  {
   "cell_type": "markdown",
   "id": "c905099e",
   "metadata": {},
   "source": [
    "## Tools"
   ]
  },
  {
   "cell_type": "code",
   "execution_count": 5,
   "id": "14351ea9",
   "metadata": {},
   "outputs": [],
   "source": [
    "def add(a:int,b:int)->int:\n",
    "    \"\"\"Add a and b\n",
    "    Args:\n",
    "        a(int): first int\n",
    "        b(int): second int\n",
    "    \n",
    "    Returns:\n",
    "        int\n",
    "    \"\"\"\n",
    "    return a+b"
   ]
  },
  {
   "cell_type": "code",
   "execution_count": 3,
   "id": "7f427764",
   "metadata": {},
   "outputs": [
    {
     "data": {
      "text/plain": [
       "ChatGroq(client=<groq.resources.chat.completions.Completions object at 0x000002A8C6A956A0>, async_client=<groq.resources.chat.completions.AsyncCompletions object at 0x000002A8C6A963C0>, model_name='openai/gpt-oss-20b', model_kwargs={}, groq_api_key=SecretStr('**********'))"
      ]
     },
     "execution_count": 3,
     "metadata": {},
     "output_type": "execute_result"
    }
   ],
   "source": [
    "llm"
   ]
  },
  {
   "cell_type": "code",
   "execution_count": 6,
   "id": "f69bb09e",
   "metadata": {},
   "outputs": [],
   "source": [
    "## Binding tools with llm\n",
    "\n",
    "llm_with_tools = llm.bind_tools([add])"
   ]
  },
  {
   "cell_type": "code",
   "execution_count": 10,
   "id": "85e7ce2f",
   "metadata": {},
   "outputs": [],
   "source": [
    "tool_call = llm_with_tools.invoke([HumanMessage(content=f\"What is 2+2\", name=\"Cris\")])"
   ]
  },
  {
   "cell_type": "code",
   "execution_count": 11,
   "id": "c7b696ad",
   "metadata": {},
   "outputs": [
    {
     "data": {
      "text/plain": [
       "[{'name': 'add',\n",
       "  'args': {'a': 2, 'b': 2},\n",
       "  'id': 'fc_72eaf76c-bc56-48b4-b8c3-e6753959fc4a',\n",
       "  'type': 'tool_call'}]"
      ]
     },
     "execution_count": 11,
     "metadata": {},
     "output_type": "execute_result"
    }
   ],
   "source": [
    "tool_call.tool_calls"
   ]
  },
  {
   "cell_type": "code",
   "execution_count": 12,
   "id": "488e0c3c",
   "metadata": {},
   "outputs": [],
   "source": [
    "### Use messages as state\n",
    "from typing_extensions import TypedDict\n",
    "from langchain_core.messages import AnyMessage\n",
    "\n",
    "class State(TypedDict):\n",
    "    message:list[AnyMessage]"
   ]
  },
  {
   "cell_type": "code",
   "execution_count": 37,
   "id": "e4f2815a",
   "metadata": {},
   "outputs": [],
   "source": [
    "from langgraph.graph.message import add_messages\n",
    "from typing import Annotated\n",
    "\n",
    "class State(TypedDict):\n",
    "    messages:Annotated[list[AnyMessage], add_messages]"
   ]
  },
  {
   "cell_type": "code",
   "execution_count": 38,
   "id": "20fa99b7",
   "metadata": {},
   "outputs": [
    {
     "data": {
      "text/plain": [
       "[AIMessage(content='Please tell how can I help', additional_kwargs={}, response_metadata={}, name='LLMModel'),\n",
       " HumanMessage(content='I want to learn coding', additional_kwargs={}, response_metadata={}, name='Cris')]"
      ]
     },
     "execution_count": 38,
     "metadata": {},
     "output_type": "execute_result"
    }
   ],
   "source": [
    "### Reducer with add_message\n",
    "\n",
    "initial_messages = [AIMessage(content=f\"Please tell how can I help\", name=\"LLMModel\")]\n",
    "initial_messages.append(HumanMessage(content=f\"I want to learn coding\", name=\"Cris\"))\n",
    "initial_messages"
   ]
  },
  {
   "cell_type": "code",
   "execution_count": 39,
   "id": "6dc91b12",
   "metadata": {},
   "outputs": [],
   "source": [
    "ai_message = AIMessage(content=f\"Please tell which programming language you want to know\", name=\"LLMModel\")"
   ]
  },
  {
   "cell_type": "code",
   "execution_count": 40,
   "id": "54127e6d",
   "metadata": {},
   "outputs": [
    {
     "data": {
      "text/plain": [
       "[AIMessage(content='Please tell how can I help', additional_kwargs={}, response_metadata={}, name='LLMModel', id='6681197d-f377-4ac9-b629-d53ca23be1f4'),\n",
       " HumanMessage(content='I want to learn coding', additional_kwargs={}, response_metadata={}, name='Cris', id='326b041f-b260-4032-82d5-4a8520ec3497'),\n",
       " AIMessage(content='Please tell which programming language you want to know', additional_kwargs={}, response_metadata={}, name='LLMModel', id='61118e25-3894-496d-bcf0-ecc7da0a4dc7')]"
      ]
     },
     "execution_count": 40,
     "metadata": {},
     "output_type": "execute_result"
    }
   ],
   "source": [
    "add_messages(initial_messages, ai_message)"
   ]
  },
  {
   "cell_type": "code",
   "execution_count": 41,
   "id": "fe93519f",
   "metadata": {},
   "outputs": [],
   "source": [
    "# Chatbot node functionality\n",
    "def llm_tool(state:State):\n",
    "    return {\"messages\":[llm_with_tools.invoke(state[\"messages\"])]}"
   ]
  },
  {
   "cell_type": "code",
   "execution_count": 47,
   "id": "4800b031",
   "metadata": {},
   "outputs": [
    {
     "data": {
      "image/png": "[encoded data removed]",
      "text/plain": [
       "<IPython.core.display.Image object>"
      ]
     },
     "metadata": {},
     "output_type": "display_data"
    }
   ],
   "source": [
    "from IPython.display import Image, display\n",
    "from langgraph.graph import StateGraph, START, END\n",
    "\n",
    "builder = StateGraph(State)\n",
    "\n",
    "builder.add_node(\"llm_tool\", llm_tool)\n",
    "\n",
    "builder.add_edge(START, \"llm_tool\")\n",
    "builder.add_edge(\"llm_tool\", END)\n",
    "\n",
    "graph = builder.compile()\n",
    "display(Image(graph.get_graph().draw_mermaid_png()))"
   ]
  },
  {
   "cell_type": "code",
   "execution_count": 48,
   "id": "a75f94d6",
   "metadata": {},
   "outputs": [
    {
     "name": "stdout",
     "output_type": "stream",
     "text": [
      "================================\u001b[1m Human Message \u001b[0m=================================\n",
      "\n",
      "What is 2 plus 2\n",
      "==================================\u001b[1m Ai Message \u001b[0m==================================\n",
      "Tool Calls:\n",
      "  add (fc_3c945a40-4c13-4d60-b48f-a82ec8687090)\n",
      " Call ID: fc_3c945a40-4c13-4d60-b48f-a82ec8687090\n",
      "  Args:\n",
      "    a: 2\n",
      "    b: 2\n"
     ]
    }
   ],
   "source": [
    "## invoke\n",
    "\n",
    "messages = graph.invoke({\"messages\":\"What is 2 plus 2\"})\n",
    "\n",
    "for message in messages['messages']:\n",
    "    message.pretty_print()"
   ]
  },
  {
   "cell_type": "code",
   "execution_count": 44,
   "id": "ec4145e8",
   "metadata": {},
   "outputs": [],
   "source": [
    "tools = [add]"
   ]
  },
  {
   "cell_type": "code",
   "execution_count": 52,
   "id": "64ac8fe2",
   "metadata": {},
   "outputs": [
    {
     "data": {
      "image/png": "[encoded data removed]",
      "text/plain": [
       "<IPython.core.display.Image object>"
      ]
     },
     "metadata": {},
     "output_type": "display_data"
    }
   ],
   "source": [
    "# Add tool node\n",
    "from langgraph.prebuilt import ToolNode, tools_condition\n",
    "\n",
    "builder = StateGraph(State)\n",
    "\n",
    "builder.add_node(\"llm_tool\", llm_tool)\n",
    "builder.add_node(\"tools\", ToolNode(tools))\n",
    "\n",
    "builder.add_edge(START, \"llm_tool\")\n",
    "builder.add_conditional_edges(\n",
    "    \"llm_tool\",\n",
    "    tools_condition\n",
    ")\n",
    "builder.add_edge(\"llm_tool\", END)\n",
    "\n",
    "graph = builder.compile()\n",
    "display(Image(graph.get_graph().draw_mermaid_png()))"
   ]
  },
  {
   "cell_type": "code",
   "execution_count": 53,
   "id": "74ef6ced",
   "metadata": {},
   "outputs": [
    {
     "name": "stdout",
     "output_type": "stream",
     "text": [
      "================================\u001b[1m Human Message \u001b[0m=================================\n",
      "\n",
      "What is 2 plus 2\n",
      "==================================\u001b[1m Ai Message \u001b[0m==================================\n",
      "Tool Calls:\n",
      "  add (fc_14658868-0b82-47f3-98e6-5599167c6325)\n",
      " Call ID: fc_14658868-0b82-47f3-98e6-5599167c6325\n",
      "  Args:\n",
      "    a: 2\n",
      "    b: 2\n",
      "=================================\u001b[1m Tool Message \u001b[0m=================================\n",
      "Name: add\n",
      "\n",
      "4\n"
     ]
    }
   ],
   "source": [
    "## invoke\n",
    "\n",
    "messages = graph.invoke({\"messages\":\"What is 2 plus 2\"})\n",
    "\n",
    "for message in messages['messages']:\n",
    "    message.pretty_print()"
   ]
  },
  {
   "cell_type": "code",
   "execution_count": 54,
   "id": "50aeba41",
   "metadata": {},
   "outputs": [
    {
     "name": "stdout",
     "output_type": "stream",
     "text": [
      "================================\u001b[1m Human Message \u001b[0m=================================\n",
      "\n",
      "What's machine learning\n",
      "==================================\u001b[1m Ai Message \u001b[0m==================================\n",
      "\n",
      "**Machine learning (ML)** is a branch of computer science that focuses on building systems that can learn from data, improve over time, and make decisions or predictions without being explicitly programmed for each specific task.\n",
      "\n",
      "---\n",
      "\n",
      "### Core Ideas\n",
      "\n",
      "| Concept | What it means | Example |\n",
      "|---------|---------------|---------|\n",
      "| **Learning** | The system extracts patterns or rules from data. | A spam filter learns which words are common in spam emails. |\n",
      "| **Model** | A mathematical representation of those patterns. | A neural network that maps input features to an output label. |\n",
      "| **Training** | The process of adjusting the model using labeled or unlabeled data. | Feeding thousands of labeled images to a convolutional neural network. |\n",
      "| **Inference / Prediction** | Using the trained model to make predictions on new data. | Classifying a new image as “cat” or “dog”. |\n",
      "\n",
      "---\n",
      "\n",
      "### How It Works (High‑level)\n",
      "\n",
      "1. **Collect Data** – Gather examples (images, text, sensor readings, etc.).\n",
      "2. **Preprocess** – Clean, normalize, and transform data into a usable format.\n",
      "3. **Choose a Model** – Pick an algorithm (e.g., linear regression, decision tree, deep neural network).\n",
      "4. **Train** – Feed data to the model, adjust internal parameters to minimize error.\n",
      "5. **Validate / Test** – Evaluate performance on unseen data to avoid overfitting.\n",
      "6. **Deploy** – Integrate the trained model into applications (apps, services, devices).\n",
      "\n",
      "---\n",
      "\n",
      "### Types of Machine Learning\n",
      "\n",
      "| Type | What it requires | Typical Use‑Cases |\n",
      "|------|------------------|-------------------|\n",
      "| **Supervised** | Labeled data (input + desired output) | Image classification, spam detection, regression tasks. |\n",
      "| **Unsupervised** | Unlabeled data | Clustering customers, anomaly detection, dimensionality reduction. |\n",
      "| **Semi‑supervised** | Mix of labeled & unlabeled data | When labeling is expensive but unlabeled data is plentiful. |\n",
      "| **Reinforcement** | Agent interacts with an environment, receives rewards | Game playing, robotics, recommendation systems. |\n",
      "| **Transfer Learning** | Fine‑tune a pre‑trained model on a new task | Using ImageNet‑trained nets for medical imaging. |\n",
      "\n",
      "---\n",
      "\n",
      "### Key Algorithms & Techniques\n",
      "\n",
      "- **Linear Models**: Linear regression, logistic regression.\n",
      "- **Tree‑Based**: Decision trees, random forests, gradient‑boosted trees (XGBoost, LightGBM).\n",
      "- **Nearest‑Neighbour**: k‑Nearest Neighbors, locality‑sensitive hashing.\n",
      "- **Support Vector Machines**.\n",
      "- **Neural Networks**:\n",
      "  - *Feedforward* (MLP)\n",
      "  - *Convolutional* (CNN) – vision tasks.\n",
      "  - *Recurrent* (RNN, LSTM, GRU) – sequences.\n",
      "  - *Transformers* – language, vision, multimodal.\n",
      "- **Dimensionality Reduction**: PCA, t‑SNE, UMAP.\n",
      "- **Clustering**: K‑means, DBSCAN, hierarchical clustering.\n",
      "\n",
      "---\n",
      "\n",
      "### Common Pitfalls & Concepts\n",
      "\n",
      "- **Overfitting**: Model performs well on training data but poorly on new data.\n",
      "- **Bias–Variance Tradeoff**: Balancing model complexity vs. generalization.\n",
      "- **Feature Engineering**: Crafting meaningful input variables.\n",
      "- **Regularization**: Techniques like L1/L2 penalty, dropout to prevent overfitting.\n",
      "- **Evaluation Metrics**: Accuracy, precision/recall, F1, ROC‑AUC, mean squared error, etc.\n",
      "\n",
      "---\n",
      "\n",
      "### Why It Matters\n",
      "\n",
      "- **Automation**: Enables computers to perform tasks that would be tedious or impossible manually.\n",
      "- **Personalization**: Power behind recommendation engines, targeted ads, adaptive interfaces.\n",
      "- **Insight Extraction**: Discover hidden patterns in large datasets (e.g., genomics, finance).\n",
      "- **Innovation**: Drives advances in autonomous vehicles, healthcare diagnostics, natural language understanding, and more.\n",
      "\n",
      "---\n",
      "\n",
      "### Quick Starter Example (Python + scikit‑learn)\n",
      "\n",
      "```python\n",
      "from sklearn.datasets import load_iris\n",
      "from sklearn.model_selection import train_test_split\n",
      "from sklearn.ensemble import RandomForestClassifier\n",
      "from sklearn.metrics import accuracy_score\n",
      "\n",
      "# 1. Load data\n",
      "X, y = load_iris(return_X_y=True)\n",
      "\n",
      "# 2. Split\n",
      "X_train, X_test, y_train, y_test = train_test_split(X, y, test_size=0.2, random_state=42)\n",
      "\n",
      "# 3. Model\n",
      "clf = RandomForestClassifier(n_estimators=100, random_state=42)\n",
      "clf.fit(X_train, y_train)\n",
      "\n",
      "# 4. Predict & Evaluate\n",
      "pred = clf.predict(X_test)\n",
      "print(\"Accuracy:\", accuracy_score(y_test, pred))\n",
      "```\n",
      "\n",
      "This snippet trains a simple decision‑tree‑based model to classify iris flowers, illustrating the typical ML pipeline in just a few lines.\n",
      "\n",
      "---\n",
      "\n",
      "### Takeaway\n",
      "\n",
      "Machine learning is the science and engineering of creating algorithms that can **learn** from data and **make decisions** or predictions automatically. It blends statistics, computer science, and domain knowledge, and has become a foundational technology behind many modern applications.\n"
     ]
    }
   ],
   "source": [
    "## invoke\n",
    "\n",
    "messages = graph.invoke({\"messages\":\"What's machine learning\"})\n",
    "\n",
    "for message in messages['messages']:\n",
    "    message.pretty_print()"
   ]
  },
  {
   "cell_type": "markdown",
   "id": "36ee69a6",
   "metadata": {},
   "source": [
    "## Multiple Tools Integration"
   ]
  },
  {
   "cell_type": "code",
   "execution_count": 1,
   "id": "5002f74c",
   "metadata": {},
   "outputs": [],
   "source": [
    "from langchain_community.tools import ArxivQueryRun, WikipediaQueryRun\n",
    "from langchain_community.utilities import ArxivAPIWrapper, WikipediaAPIWrapper"
   ]
  },
  {
   "cell_type": "code",
   "execution_count": 2,
   "id": "006ce80a",
   "metadata": {},
   "outputs": [
    {
     "name": "stdout",
     "output_type": "stream",
     "text": [
      "arxiv\n"
     ]
    }
   ],
   "source": [
    "api_wrapper_arxiv = ArxivAPIWrapper(top_k_results=2, doc_content_chars_max=500)\n",
    "arxiv = ArxivQueryRun(api_wrapper=api_wrapper_arxiv)\n",
    "print(arxiv.name)"
   ]
  },
  {
   "cell_type": "code",
   "execution_count": 4,
   "id": "1976e427",
   "metadata": {},
   "outputs": [
    {
     "data": {
      "text/plain": [
       "\"Published: 2024-07-22\\nTitle: Attention Is All You Need But You Don't Need All Of It For Inference of Large Language Models\\nAuthors: Georgy Tyukin, Gbetondji J-S Dovonon, Jean Kaddour, Pasquale Minervini\\nSummary: The inference demand for LLMs has skyrocketed in recent months, and serving\\nmodels with low latencies remains challenging due to the quadratic input length\\ncomplexity of the attention layers. In this work, we investigate the effect of\\ndropping MLP and attention layers at inference time o\""
      ]
     },
     "execution_count": 4,
     "metadata": {},
     "output_type": "execute_result"
    }
   ],
   "source": [
    "arxiv.invoke(\"Attention is all you need\")"
   ]
  },
  {
   "cell_type": "code",
   "execution_count": 3,
   "id": "739d8c48",
   "metadata": {},
   "outputs": [
    {
     "name": "stdout",
     "output_type": "stream",
     "text": [
      "wikipedia\n"
     ]
    }
   ],
   "source": [
    "api_wrapper_wiki = WikipediaAPIWrapper(top_k_results=2, doc_content_chars_max=500)\n",
    "wiki = WikipediaQueryRun(api_wrapper=api_wrapper_wiki)\n",
    "print(wiki.name)"
   ]
  },
  {
   "cell_type": "code",
   "execution_count": 6,
   "id": "3e44ce8d",
   "metadata": {},
   "outputs": [
    {
     "data": {
      "text/plain": [
       "'Page: Machine learning\\nSummary: Machine learning (ML) is a field of study in artificial intelligence concerned with the development and study of statistical algorithms that can learn from data and generalise to unseen data, and thus perform tasks without explicit instructions. Within a subdiscipline in machine learning, advances in the field of deep learning have allowed neural networks, a class of statistical algorithms, to surpass many previous machine learning approaches in performance.\\nML fi'"
      ]
     },
     "execution_count": 6,
     "metadata": {},
     "output_type": "execute_result"
    }
   ],
   "source": [
    "wiki.invoke(\"What's machine learning\")"
   ]
  },
  {
   "cell_type": "code",
   "execution_count": 4,
   "id": "d8946d1c",
   "metadata": {},
   "outputs": [],
   "source": [
    "from dotenv import load_dotenv\n",
    "load_dotenv(\"./.env\")\n",
    "\n",
    "import os\n",
    "\n",
    "os.environ['TAVILY_API_KEY'] = os.getenv(\"TAVILY_API_KEY\")\n",
    "os.environ['GROQ_API_KEY'] = os.getenv(\"GROQ_API_KEY\")"
   ]
  },
  {
   "cell_type": "code",
   "execution_count": 5,
   "id": "86cf6e33",
   "metadata": {},
   "outputs": [
    {
     "name": "stderr",
     "output_type": "stream",
     "text": [
      "C:\\Users\\Crist\\AppData\\Local\\Temp\\ipykernel_16204\\735679136.py:3: LangChainDeprecationWarning: The class `TavilySearchResults` was deprecated in LangChain 0.3.25 and will be removed in 1.0. An updated version of the class exists in the :class:`~langchain-tavily package and should be used instead. To use it run `pip install -U :class:`~langchain-tavily` and import as `from :class:`~langchain_tavily import TavilySearch``.\n",
      "  tavily = TavilySearchResults()\n"
     ]
    }
   ],
   "source": [
    "from langchain_community.tools.tavily_search import TavilySearchResults\n",
    "\n",
    "tavily = TavilySearchResults()"
   ]
  },
  {
   "cell_type": "code",
   "execution_count": 10,
   "id": "f100b1ee",
   "metadata": {},
   "outputs": [
    {
     "data": {
      "text/plain": [
       "[{'title': 'Nvidia-Backed Group Drops $40B on Aligned Data Centers',\n",
       "  'url': 'https://www.datacenterknowledge.com/deals/blackrock-nvidia-led-group-to-buy-aligned-data-centers-in-40b-ai-play',\n",
       "  'content': \"The purchase will arm investors with AI compute power from 50 data center sites in the US and Latin America.\\n\\nPicture of Shane Snider\\n\\nOctober 15, 2025\\n\\nThe AI Infrastructure Partnership – a group that includes Nvidia, Blackrock, Microsoft, and xAI – on Wednesday announced the purchase of Texas-headquartered Aligned Data Centers for $40 billion in a deal to boost AI infrastructure. [...] Big tech companies have been spending billions in recent months to secure enough data center power to feed unprecedented demand for AI. Global AI investment could reach $375 billion in 2025 and hit $500 billion by 2026, according to UBS. [...] You May Also Like\\n\\n### Editor's Choice\\n\\nNxtra by Airtel Africa, the data center division of Airtel Africa, breaks ground on a new 44 MW data center facility in Tatu, Kenya\\n\\nOct 9, 2025\\n\\nEdge Computing Trends: Adoption, Challenges, and Future Outlook\\n\\nDecoding Data Center Efficiency Metrics: A Guide to Energy and Sustainability\\n\\nData Center Knowledge’s 2024 Salary Report\\n\\nDeep Dive: Optimizing AI Data Storage Management\\n\\n### Industry Voices\\n\\nAt TPU pod inside a Google data center\\n\\nOct 15, 2025\",\n",
       "  'score': 0.838376},\n",
       " {'title': 'Nvidia upgraded as HSBC sees AI driving nearly 80% upside',\n",
       "  'url': 'https://www.mercurynews.com/2025/10/15/nvidia-upgraded-as-hsbc-sees-ai-driving-nearly-80-upside/',\n",
       "  'content': 'Author\\n\\nBy Bloomberg | wordpress@medianewsgroup.com | Bloomberg\\n\\nUPDATED: October 15, 2025 at 9:32 AM PDT\\n\\n(Bloomberg/Ryan Vlastelica) — Nvidia Corp. added another bull on Wednesday, as HSBC upgraded the chipmaker to buy from hold, citing the ongoing growth of artificial intelligence. [...] (Updates to market open.)\\n\\nMore stories like this are available on bloomberg.com\\n\\n©2025 Bloomberg L.P.\\n\\n### Share this:\\n\\nThe Trust Project Logo\\n\\n## RevContent Feed\\n\\n## Most Popular\\n\\n### Miss Manners: She referred to her dog as her kid, and I didn’t know what to say\\n\\n### Newsom signs new shopping cart law championed by San Jose politicians\\n\\n### Glock ban, slavery reparations, ICE agent masks, more housing: 10 key bills Gov. Gavin Newsom signed into law [...] ### Silicon Valley’s ‘Bitcoin Jesus’ avoids prison with $50 million payment to feds\\n\\nOpening festivities at Irvine Co.’s The Market Place apartments in Irvine, Calif., on Sept. 27, 2025. (Courtesy: Irvine Co.)\\n\\n### California real estate giant has new plan for apartments, with 12,000 units brewing statewide\\n\\nThe Mercury News\\n\\nCopyright © 2025 MediaNews Group\\n\\nBay Area News Group',\n",
       "  'score': 0.7940821},\n",
       " {'title': 'Apple unleashes M5, the next big leap in AI performance for Apple ...',\n",
       "  'url': 'https://www.apple.com/newsroom/2025/10/apple-unleashes-m5-the-next-big-leap-in-ai-performance-for-apple-silicon/',\n",
       "  'content': 'Apple Intelligence-powered Writing Tools are shown on Mac.\\n\\n## Enhanced Memory to Do Even More with AI\\n\\n## Apple Silicon and the Environment\\n\\n## Media\\n\\nText of this article\\n\\nOctober 15, 2025\\n\\nPRESS RELEASE\\n\\nApple unleashes M5, the next big leap in AI performance for Apple silicon [...] ## \\n\\n## \\n\\n# Apple unleashes M5, the next big leap in AI performance for Apple silicon\\n\\nA graphic representation of Apple’s M5 chip against a black background.\\nA graphic representation of Apple’s M5 chip against a black background.\\n\\n## A Next-Generation GPU Architecture Optimized for AI and Graphics\\n\\nThe Draw Things app, shown on iPad Pro with the Magic Keyboard.\\nThe LM Studio app.\\nGameplay for Cyberpunk 2077 on Mac.\\n\\n## A Faster Neural Engine to Power Intelligent Features [...] CUPERTINO, CALIFORNIA Apple today announced M5, delivering the next big leap in AI performance and advances to nearly every aspect of the chip. Built using third-generation 3-nanometer technology, M5 introduces a next-generation 10-core GPU architecture with a Neural Accelerator in each core, enabling GPU-based AI workloads to run dramatically faster, with over 4x the peak GPU compute performance compared to M4.1 The GPU also offers enhanced graphics capabilities and third-generation ray',\n",
       "  'score': 0.78552294},\n",
       " {'title': 'Speech by Governor Waller on artificial intelligence',\n",
       "  'url': 'https://www.federalreserve.gov/newsevents/speech/waller20251015a.htm',\n",
       "  'content': 'Interest Rates\\n\\nMicro Data Reference Manual (MDRM)\\n\\nMoney Stock and Reserve Balances\\n\\nOther\\n\\nRegulations\\n\\nSupervision & Enforcement\\n\\nCommunity Development\\n\\nResearch & Analysis\\n\\nResources for Consumers\\n\\n## Speech\\n\\nOctober 15, 2025\\n\\n### Innovation at the Speed of AI\\n\\nGovernor Christopher J. Waller\\n\\nAt DC Fintech Week, Arlington, Virginia [...] 3. Ben Hyman, Jaison R. Abel, Natalia Emanuel, Nick Montalbano, and Richard Deitz (2025), \"Are Businesses Scaling Back Hiring Due to AI?\" Federal Reserve Bank of New York, Liberty Street Economics (blog), September 4. Return to text\\n\\n4. The other half of the prize was awarded to Joel Mokyr for work that emphasized the importance of society being open to new ideas and allowing change as an engine of economic development. Return to text\\n\\n###### Board of Governors of the Federal Reserve System [...] 1. The views expressed here are my own and are not necessarily those of my colleagues on the Federal Reserve Board or the Federal Open Market Committee. Return to text\\n\\n2. Erik Brynjolfsson, Bharat Chandar, and Ruyu Chen (2025), \"Canaries in the Coal Mine? Six Facts about the Recent Employment Effects of Artificial Intelligence (PDF),\" working paper, Stanford Digital Economy Lab, August. Return to text',\n",
       "  'score': 0.6977124},\n",
       " {'title': 'AI has already disrupted hiring for these jobs as adoption nears a ...',\n",
       "  'url': 'https://www.morningstar.com/news/marketwatch/20251015228/ai-has-already-disrupted-hiring-for-these-jobs-as-adoption-nears-a-tipping-point',\n",
       "  'content': 'The technology is undoubtedly having a growing impact on the global economy, the HSBC team said - and while the job market is currently showing \"limited\" signs of stress, they think more jobs could be at risk in the future.\\n\\n-Britney Nguyen\\n\\nThis content was created by MarketWatch, which is operated by Dow Jones & Co. MarketWatch is published independently from Dow Jones Newswires and The Wall Street Journal.\\n\\n(END) Dow Jones Newswires\\n\\n10-15-25 1349ET [...] \"As investment continues to pour into AI, the technology will cross new frontiers, bringing the cost down and widening the scope of jobs it can replace,\" the analysts said - adding that the rise of \"agentic\" AI, or software that can complete tasks autonomously, will drive the trend even more. \"The impact on the [labor] market, whilst only around the fringes for now, is set to get bigger.\"\\n\\nSee also: A recent college grad asks: How do I compete with AI to get a job in finance? [...] While AI-focused firms are outperforming market expectations and AI capital expenditures are soaring, the HSBC team said \"it feels like we are at a tipping point where AI is having a material impact\" on the labor market - not only in the U.S., where new AI tools are being rolled out at a rapid cadence, but around the world.\\n\\nRead: Amazon CEO says AI will mean fewer jobs at the company. Here\\'s his advice on how people can keep theirs.',\n",
       "  'score': 0.57666177}]"
      ]
     },
     "execution_count": 10,
     "metadata": {},
     "output_type": "execute_result"
    }
   ],
   "source": [
    "tavily.invoke(\"Provide the recent AI news for octuber 15th 2025\")"
   ]
  },
  {
   "cell_type": "code",
   "execution_count": 6,
   "id": "2fff1507",
   "metadata": {},
   "outputs": [],
   "source": [
    "# Combine all the tools\n",
    "\n",
    "tools = [arxiv, wiki, tavily]"
   ]
  },
  {
   "cell_type": "code",
   "execution_count": 7,
   "id": "005230f4",
   "metadata": {},
   "outputs": [],
   "source": [
    "# Initialize LLM Model\n",
    "\n",
    "from langchain_groq import ChatGroq\n",
    "\n",
    "llm = ChatGroq(model=\"openai/gpt-oss-20b\")\n",
    "llm_with_tools = llm.bind_tools(tools)"
   ]
  },
  {
   "cell_type": "code",
   "execution_count": 8,
   "id": "81faae79",
   "metadata": {},
   "outputs": [
    {
     "data": {
      "text/plain": [
       "AIMessage(content='', additional_kwargs={'reasoning_content': \"We need to provide recent AI news. Likely use tavily_search_results_json for up-to-date news. Let's search.\", 'tool_calls': [{'id': 'fc_17d7ce36-a03f-441d-a925-bb558e605242', 'function': {'arguments': '{\"query\":\"recent AI news 2025 October\"}', 'name': 'tavily_search_results_json'}, 'type': 'function'}]}, response_metadata={'token_usage': {'completion_tokens': 59, 'prompt_tokens': 292, 'total_tokens': 351, 'completion_time': 0.05891819, 'prompt_time': 0.017939032, 'queue_time': 0.191219083, 'total_time': 0.076857222}, 'model_name': 'openai/gpt-oss-20b', 'system_fingerprint': 'fp_e99e93f2ac', 'service_tier': 'on_demand', 'finish_reason': 'tool_calls', 'logprobs': None}, id='run--8238eab9-8ec2-43cb-a367-6b672fefe602-0', tool_calls=[{'name': 'tavily_search_results_json', 'args': {'query': 'recent AI news 2025 October'}, 'id': 'fc_17d7ce36-a03f-441d-a925-bb558e605242', 'type': 'tool_call'}], usage_metadata={'input_tokens': 292, 'output_tokens': 59, 'total_tokens': 351})"
      ]
     },
     "execution_count": 8,
     "metadata": {},
     "output_type": "execute_result"
    }
   ],
   "source": [
    "from langchain_core.messages import HumanMessage, AIMessage\n",
    "from pprint import pprint\n",
    "llm_with_tools.invoke([HumanMessage(content=\"What are the most recent AI news\")])"
   ]
  },
  {
   "cell_type": "code",
   "execution_count": 20,
   "id": "de876da6",
   "metadata": {},
   "outputs": [
    {
     "data": {
      "text/plain": [
       "[{'name': 'tavily_search_results_json',\n",
       "  'args': {'query': 'most recent AI news 2025'},\n",
       "  'id': 'fc_eab02db7-3f3b-4623-9620-e1c75543b12e',\n",
       "  'type': 'tool_call'}]"
      ]
     },
     "execution_count": 20,
     "metadata": {},
     "output_type": "execute_result"
    }
   ],
   "source": [
    "llm_with_tools.invoke([HumanMessage(content=\"What are the most recent AI news\")]).tool_calls"
   ]
  },
  {
   "cell_type": "code",
   "execution_count": 9,
   "id": "dbfb99f9",
   "metadata": {},
   "outputs": [],
   "source": [
    "## Chatbot\n",
    "\n",
    "from IPython.display import Image, display\n",
    "from langgraph.graph import StateGraph, START, END\n",
    "from langgraph.prebuilt import ToolNode, tools_condition"
   ]
  },
  {
   "cell_type": "code",
   "execution_count": 10,
   "id": "547356aa",
   "metadata": {},
   "outputs": [],
   "source": [
    "# State schema\n",
    "from typing_extensions import TypedDict\n",
    "from langchain_core.messages import AnyMessage\n",
    "from typing import Annotated\n",
    "from langgraph.graph.message import add_messages\n",
    "\n",
    "class State(TypedDict):\n",
    "    messages:Annotated[list[AnyMessage], add_messages]"
   ]
  },
  {
   "cell_type": "code",
   "execution_count": 11,
   "id": "f7d1b1a0",
   "metadata": {},
   "outputs": [],
   "source": [
    "def tool_calling_llm(state:State):\n",
    "    return {\"messages\":[llm_with_tools.invoke(state['messages'])]}"
   ]
  },
  {
   "cell_type": "code",
   "execution_count": 12,
   "id": "cee7845b",
   "metadata": {},
   "outputs": [
    {
     "data": {
      "image/png": "[encoded data removed]",
      "text/plain": [
       "<IPython.core.display.Image object>"
      ]
     },
     "metadata": {},
     "output_type": "display_data"
    }
   ],
   "source": [
    "builder = StateGraph(State)\n",
    "builder.add_node(\"tool_calling_llm\", tool_calling_llm)\n",
    "builder.add_node(\"tools\", ToolNode(tools))\n",
    "\n",
    "builder.add_edge(START, \"tool_calling_llm\")\n",
    "builder.add_conditional_edges(\"tool_calling_llm\", tools_condition)\n",
    "builder.add_edge(\"tools\",END)\n",
    "\n",
    "graph = builder.compile()\n",
    "display(Image(graph.get_graph().draw_mermaid_png()))"
   ]
  },
  {
   "cell_type": "code",
   "execution_count": 13,
   "id": "18e426d3",
   "metadata": {},
   "outputs": [
    {
     "name": "stdout",
     "output_type": "stream",
     "text": [
      "================================\u001b[1m Human Message \u001b[0m=================================\n",
      "\n",
      "Provide the 3 lastest  news about AI at 16th october 2025\n",
      "==================================\u001b[1m Ai Message \u001b[0m==================================\n",
      "Tool Calls:\n",
      "  tavily_search_results_json (fc_e458ade9-5cc6-494f-b7ed-ffd360628808)\n",
      " Call ID: fc_e458ade9-5cc6-494f-b7ed-ffd360628808\n",
      "  Args:\n",
      "    query: AI news October 16 2025\n",
      "=================================\u001b[1m Tool Message \u001b[0m=================================\n",
      "Name: tavily_search_results_json\n",
      "\n",
      "[{\"title\": \"The Latest AI News and AI Breakthroughs that Matter Most: 2025\", \"url\": \"https://www.crescendo.ai/news/latest-ai-news-and-updates\", \"content\": \"Summary: Reveal HealthTech, an AI-powered healthcare startup based in Bengaluru and the U.S., raised $7.2 million in a Series A round led by Leo Capital, with continued support from Sanos Capital, W Health Ventures, and 2070 Health. The funding will bolster its core products, BioCanvas, which accelerates clinical trial recruitment using multimodal AI, and Prism AI, which automates healthcare workflows and improves patient adherence. Co-founded by Sanchit Mullick and Dr. Salim Ashar, the company [...] Summary: Researchers have unveiled a new procedural memory architecture for AI agents that enables them to incrementally learn, store, and reuse operational steps, thereby enhancing long-term performance and reducing costly retraining. This framework enables agents to build cumulative expertise and handle complex, multi-phase tasks more robustly. It holds promise for deploying more adaptive and cost-efficient AI agents in enterprise workflows.\\n\\nSource:Computerworld [...] Summary: Alibaba's stock soared approximately 19% in Hong Kong amid investor enthusiasm tied to strong growth in its AI-powered cloud business. Quarterly earnings revealed substantial year-over-year gains in AI-related revenue, signaling a sustained competitive edge. Analysts also noted expectations around a new AI chip development. The rally reflects rising confidence in Alibaba’s tech-led strategic execution.\\n\\nSource:Reuters\", \"score\": 0.83678174}, {\"title\": \"Moving Beyond Perception: How AFEELA's AI is Learning to ...\", \"url\": \"https://www.shm-afeela.com/en/news/2025-10-16/\", \"content\": \"Go to main content\\n\\nOctober 16, 2025\\n\\n# Moving Beyond Perception: How AFEELA’s AI is Learning to Understand Relationships [...] I am Yasuhiro Suto, Senior Manager of AI Model Development in the Autonomous System Development Division at Sony Honda Mobility (SHM). As we prepare for deliveries in the US for AFEELA 1 in 2026, we are aiming to develop a world-class AI model, built entirely in-house, to power our ADAS.\", \"score\": 0.8245895}, {\"title\": \"Artificial Intelligence - SECURE IT October 2025\", \"url\": \"https://www.wpi.edu/news/announcements/artificial-intelligence-secure-it-october-2025\", \"content\": \"BEYOND THESE TOWERS\\n\\nNEXT ANNOUNCEMENTCARD IAB Meeting\\n\\n# Artificial Intelligence - SECURE IT October 2025\\n\\n## Department(s):\\n\\nInformation Technology Services\\n\\nThis month's focus is ARTIFICIAL INTELLIGENCE (AI), In SECURE IT we highlight best practices, and provide a few cautions. October is also Cybersecurity Awareness month!\\n\\nWe are grateful to Raha Moraffah, Assistant Professor of Computer Science, for this month’s feature article on Social Engineering Attacks in the Era of Generative AI. [...] In this issue:\\n\\n From WPI's CISTO: AI Interim Policy\\n Using AI at WPI\\n Social Engineering Attacks in the Era of Generative AI\\n Cybersecurity Awareness Month & Where to Find Information Security?\\n Examples of AI in Everyday Life\\n AI Creating Hard to Detect Phishing Emails\\n Learning with Laughter\\n Meet LeeAnn LeClerc!\\n Featured Videos & In the News\\n By the Numbers\\n Diversity in Cybersecurity\\n Additional WPI Resources\\n\\n## Topics\\n\\n## Artificial Intelligence\\n\\n## Cyber Security\\n\\nRaha Moraffah [...] Assistant Professor, Computer Science\\n\\nRaha Moraffah is an Assistant Professor in the Department of Computer Science at Worcester Polytechnic Institute (WPI). Prior to joining WPI, she earned her Ph.D. in computer science from Arizona State University. Raha's research spans machine learning, data mining, artificial in (/people/faculty/rmoraffah)\\n\\n read more\", \"score\": 0.81025416}, {\"title\": \"Oracle AI Database 26ai Powers the AI for Data Revolution\", \"url\": \"https://www.oracle.com/news/announcement/ai-world-database-26ai-powers-the-ai-for-data-revolution-2025-10-14/\", \"content\": \"Oracle AI Database 26ai is a long-term support release that replaces Oracle Database 23ai. Customers can simply apply the October 2025 release update to transition from 23ai to the currently available features of 26ai. Customers will receive the immediately available features and will be ready for additional features as they are released. There is no database upgrade or application re-certification required. Advanced AI features such as AI Vector Search are included at no additional charge.\", \"score\": 0.73596483}, {\"title\": \"Opinions split over AI bubble after billions invested - Reuters\", \"url\": \"https://www.reuters.com/business/finance/opinions-split-over-ai-bubble-after-billions-invested-2025-10-16/\", \"content\": \"Oct 16 (Reuters) - Companies announcing multi-billion dollar investments in artificial intelligence have raised concerns about the formation of a bubble reminiscent of the dotcom boom and bust.\\n\\nInvestors are on guard for signals that demand is tailing off or that the massive spending is not paying off as anticipated.\\n\\nThe Week in Breakingviews newsletter offers insights and ideas from Reuters' global financial commentary team. Sign up here. [...] JOSEPH BRIGGS, ECONOMIST AT GOLDMAN SACHS' GLOBAL ECONOMICS RESEARCH The flood of multibillion-dollar investments pouring into U.S. artificial intelligence infrastructure is sustainable, pushing back on mounting concerns that the sector's spending spree could be overheating, Briggs said in a note on October 16. [...] While the overall macroeconomic case for AI investment remains strong, he cautioned that \\\"the ultimate AI winners remain less clear,\\\" with fast technological change and low switching costs potentially limiting first-mover advantages.\\n\\nMORTEN WIEROD, ABB CEO \\\"I don't think there is a bubble, but we do see do see some constraints in terms of construction capacity not keeping up with all the new investments,\\\" Wierod told Reuters on October 16.\", \"score\": 0.6641271}]\n"
     ]
    }
   ],
   "source": [
    "messages = graph.invoke({\"messages\":HumanMessage(content=\"Provide the 3 lastest  news about AI at 16th october 2025\")})\n",
    "\n",
    "for message in messages['messages']:\n",
    "    message.pretty_print()"
   ]
  },
  {
   "cell_type": "code",
   "execution_count": null,
   "id": "6768e29f",
   "metadata": {},
   "outputs": [],
   "source": []
  },
  {
   "cell_type": "code",
   "execution_count": null,
   "id": "db06620e",
   "metadata": {},
   "outputs": [],
   "source": []
  },
  {
   "cell_type": "code",
   "execution_count": null,
   "id": "7286c337",
   "metadata": {},
   "outputs": [],
   "source": []
  },
  {
   "cell_type": "code",
   "execution_count": null,
   "id": "840939c2",
   "metadata": {},
   "outputs": [],
   "source": []
  },
  {
   "cell_type": "code",
   "execution_count": null,
   "id": "28187484",
   "metadata": {},
   "outputs": [],
   "source": []
  },
  {
   "cell_type": "code",
   "execution_count": null,
   "id": "78b1ee39",
   "metadata": {},
   "outputs": [],
   "source": []
  },
  {
   "cell_type": "code",
   "execution_count": null,
   "id": "9f56bd8e",
   "metadata": {},
   "outputs": [],
   "source": []
  },
  {
   "cell_type": "code",
   "execution_count": null,
   "id": "dc8cfad7",
   "metadata": {},
   "outputs": [],
   "source": []
  },
  {
   "cell_type": "code",
   "execution_count": null,
   "id": "c9d54286",
   "metadata": {},
   "outputs": [],
   "source": []
  },
  {
   "cell_type": "code",
   "execution_count": null,
   "id": "a94b1ef3",
   "metadata": {},
   "outputs": [],
   "source": []
  },
  {
   "cell_type": "code",
   "execution_count": null,
   "id": "6dd6ceec",
   "metadata": {},
   "outputs": [],
   "source": []
  },
  {
   "cell_type": "code",
   "execution_count": null,
   "id": "a9b44ee2",
   "metadata": {},
   "outputs": [],
   "source": []
  },
  {
   "cell_type": "code",
   "execution_count": null,
   "id": "3c87a0e1",
   "metadata": {},
   "outputs": [],
   "source": []
  },
  {
   "cell_type": "code",
   "execution_count": null,
   "id": "3dee8361",
   "metadata": {},
   "outputs": [],
   "source": []
  },
  {
   "cell_type": "code",
   "execution_count": null,
   "id": "0a4c8db0",
   "metadata": {},
   "outputs": [],
   "source": []
  },
  {
   "cell_type": "code",
   "execution_count": null,
   "id": "f4e115d1",
   "metadata": {},
   "outputs": [],
   "source": []
  },
  {
   "cell_type": "code",
   "execution_count": null,
   "id": "c5c04eff",
   "metadata": {},
   "outputs": [],
   "source": []
  },
  {
   "cell_type": "code",
   "execution_count": null,
   "id": "73875495",
   "metadata": {},
   "outputs": [],
   "source": []
  },
  {
   "cell_type": "code",
   "execution_count": null,
   "id": "543c4eea",
   "metadata": {},
   "outputs": [],
   "source": []
  },
  {
   "cell_type": "code",
   "execution_count": null,
   "id": "9a081d0c",
   "metadata": {},
   "outputs": [],
   "source": []
  },
  {
   "cell_type": "code",
   "execution_count": null,
   "id": "74e2affb",
   "metadata": {},
   "outputs": [],
   "source": []
  },
  {
   "cell_type": "code",
   "execution_count": null,
   "id": "3eac62f0",
   "metadata": {},
   "outputs": [],
   "source": []
  }
 ],
 "metadata": {
  "kernelspec": {
   "display_name": ".venv",
   "language": "python",
   "name": "python3"
  },
  "language_info": {
   "codemirror_mode": {
    "name": "ipython",
    "version": 3
   },
   "file_extension": ".py",
   "mimetype": "text/x-python",
   "name": "python",
   "nbconvert_exporter": "python",
   "pygments_lexer": "ipython3",
   "version": "3.13.7"
  }
 },
 "nbformat": 4,
 "nbformat_minor": 5
}
