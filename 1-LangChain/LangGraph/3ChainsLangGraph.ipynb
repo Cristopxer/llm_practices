{
 "cells": [
  {
   "cell_type": "markdown",
   "id": "48407767",
   "metadata": {},
   "source": [
    "## Chain using LangGraph"
   ]
  },
  {
   "cell_type": "code",
   "execution_count": 1,
   "id": "b2efd556",
   "metadata": {},
   "outputs": [],
   "source": [
    "from dotenv import load_dotenv\n",
    "import os\n",
    "load_dotenv(\"./.env\")\n",
    "\n",
    "os.environ['GROQ_API_KEY'] = os.getenv(\"GROQ_API_KEY\")"
   ]
  },
  {
   "cell_type": "code",
   "execution_count": 5,
   "id": "f9b30428",
   "metadata": {},
   "outputs": [
    {
     "name": "stdout",
     "output_type": "stream",
     "text": [
      "==================================\u001b[1m Ai Message \u001b[0m==================================\n",
      "Name: LLMModel\n",
      "\n",
      "Please tell how can I help\n",
      "================================\u001b[1m Human Message \u001b[0m=================================\n",
      "Name: Cris\n",
      "\n",
      "I want to learn coding\n",
      "==================================\u001b[1m Ai Message \u001b[0m==================================\n",
      "Name: LLMModel\n",
      "\n",
      "Please tell which programming language you want to know\n",
      "================================\u001b[1m Human Message \u001b[0m=================================\n",
      "Name: LLMModel\n",
      "\n",
      "I want to learn C++ language\n"
     ]
    }
   ],
   "source": [
    "from langchain_core.messages import AIMessage, HumanMessage\n",
    "from pprint import pprint\n",
    "\n",
    "messages = [AIMessage(content=f\"Please tell how can I help\", name=\"LLMModel\")]\n",
    "messages.append(HumanMessage(content=f\"I want to learn coding\", name=\"Cris\"))\n",
    "messages.append(AIMessage(content=f\"Please tell which programming language you want to know\", name=\"LLMModel\"))\n",
    "messages.append(HumanMessage(content=f\"I want to learn C++ language\", name=\"LLMModel\"))\n",
    "\n",
    "for message in messages:\n",
    "    message.pretty_print()"
   ]
  },
  {
   "cell_type": "code",
   "execution_count": 3,
   "id": "158d4bda",
   "metadata": {},
   "outputs": [],
   "source": [
    "from langchain_groq import ChatGroq\n",
    "\n",
    "llm = ChatGroq(model=\"openai/gpt-oss-20b\")"
   ]
  },
  {
   "cell_type": "code",
   "execution_count": 7,
   "id": "eb7693f8",
   "metadata": {},
   "outputs": [
    {
     "data": {
      "text/plain": [
       "'### 🚀 Quick‑Start Roadmap for Learning C++ (2025)\\n\\n| Stage | What you’ll learn | Why it matters | Suggested resources | Practice ideas |\\n|-------|-------------------|----------------|---------------------|----------------|\\n| **1️⃣ Setup & Basics** | Install a compiler, IDE, and write “Hello, World!” | You need a working environment and the syntax of C++ fundamentals. | • **IDE**: Visual Studio Code (VS\\u202fCode) + C/C++ extension<br>• **Compiler**: GCC (Linux/macOS) or MSVC (Windows)<br>• **Tutorial**: “C++ Primer” – Chapters 1‑3 or the free **cppreference.com** “Getting Started” guide | Write a program that prints your name, age, and a short message. |\\n| **2️⃣ Core Language Features** | Variables, data types, operators, control flow, functions, arrays, pointers, references | These are the building blocks of every C++ program. | • **Book**: *C++ Primer* (Chapters 4‑8)<br>• **Online**: **LearnCpp.com** (chapters 4‑12)<br>• **Video**: “C++ Programming Basics” (YouTube – freeCodeCamp) | Create a simple calculator that takes two numbers and an operator (+, -, *, /). |\\n| **3️⃣ Object‑Oriented Programming (OOP)** | Classes, objects, encapsulation, inheritance, polymorphism, constructors/destructors | C++ shines in systems programming and game dev because of OOP. | • **Book**: *Effective Modern C++* (Section on OOP)<br>• **Course**: “Object-Oriented Programming in C++” (Coursera, Udemy) | Build a tiny “Bank Account” system: deposit, withdraw, balance, interest. |\\n| **4️⃣ Modern C++ (C++17/20/23)** | `auto`, range‑based loops, smart pointers (`std::unique_ptr`, `std::shared_ptr`), STL containers, lambdas, `std::optional`, `std::variant`, `constexpr` | Modern C++ reduces boilerplate, improves safety, and boosts performance. | • **Book**: *The C++ Programming Language, 5th Edition* (Modern C++ chapters)<br>• **Blog**: “The Modern C++ Handbook” (https://modern-cpp.org)<br>• **Video**: “C++17 Features” (Bobby G) | Rewrite your calculator using `std::vector` for inputs and `std::function` for operations. |\\n| **5️⃣ Memory Management & Performance** | Stack vs heap, RAII, move semantics, `std::move`, `std::swap`, cache‑friendly data structures | C++ is used in high‑performance domains; understanding memory is essential. | • **Book**: *Effective Modern C++* – “Move semantics” and “RAII” chapters<br>• **Tutorial**: “C++ Memory Management” (cppreference.com) | Implement a simple `Vector` class that resizes dynamically (like `std::vector`). |\\n| **6️⃣ Standard Library Mastery** | `<algorithm>`, `<numeric>`, `<thread>`, `<future>`, `<filesystem>`, `<chrono>`, `<regex>` | The STL is your best friend; it saves you from reinventing the wheel. | • **Book**: *C++ Standard Library – The Complete Reference* (O’Reilly)<br>• **Online**: cppreference.com “Algorithms” section | Sort a list of random numbers, find the median, and time the operation with `<chrono>`. |\\n| **7️⃣ Build Tools & CI** | CMake, Makefile, Git, GitHub Actions | Real projects need reproducible builds and version control. | • **Tutorial**: “CMake for C++” (CMake.org) <br>• **Guide**: “Git Basics” (GitHub Docs) | Create a small library (e.g., a math library), add a CMakeLists.txt, push to GitHub, and set up a GitHub Actions workflow to run tests. |\\n| **8️⃣ Testing & Debugging** | Unit tests (`GoogleTest`), assertions, debugging with GDB/LLDB, sanitizers | Bugs are inevitable; learning to find and fix them is vital. | • **Book**: *C++ Testing with GoogleTest* (Meyers) <br>• **Video**: “Debugging C++ with GDB” (YouTube) | Write tests for your `Vector` class, run them with `make test`, and debug a failing test. |\\n| **9️⃣ Real‑World Projects** | Build a console game, a simple file‑based database, or a tiny web server using sockets | Projects cement concepts and show you how to tackle bigger problems. | • **Guide**: “Build a C++ Game Engine” (YouTube – TheCherno) <br>• **Project**: “Create a Command‑Line To‑Do App” (GitHub) | Develop a “Todo” CLI app that stores tasks in a text file, supports add/remove/list, and uses `std::filesystem`. |\\n| **🔟 Keep Learning** | Design patterns, concurrency, networking, template metaprogramming | C++ is deep; staying updated keeps you competitive. | • **Book**: *Design Patterns in C++* (Bjarne Stroustrup) <br>• **Course**: “Concurrency in Modern C++” (Pluralsight) | Contribute to an open‑source C++ library on GitHub; this will expose you to real‑world codebases. |\\n\\n---\\n\\n## 🌟 Your First Mini‑Project: “Personal Finance Tracker”\\n\\n1. **Goal**: Store transactions (date, description, amount) in a file; read, add, list, and calculate the balance.\\n2. **Why?** It covers:\\n   - File I/O (`std::ifstream`, `std::ofstream`)\\n   - Containers (`std::vector`)\\n   - Algorithms (`std::sort`, `std::accumulate`)\\n   - Classes & objects\\n   - Modern C++ features (`std::string_view`, `auto`, `std::optional`)\\n3. **Step‑by‑step**:\\n   1. Define a `Transaction` struct with `std::string date`, `description`, `double amount`.\\n   2. Create a `FinanceTracker` class that holds a `std::vector<Transaction>`.\\n   3. Implement `loadFromFile(const std::string&)` and `saveToFile(const std::string&)`.\\n   4. Add methods: `addTransaction`, `listTransactions`, `calculateBalance`.\\n   5. Write a `main()` that shows a menu: 1) Add, 2) List, 3) Balance, 4) Exit.\\n4. **Tools**:\\n   - Use CMake: `cmake_minimum_required(VERSION 3.20)` etc.\\n   - Add a `tests/` folder with a few GoogleTest cases.\\n\\n---\\n\\n## 📚 Suggested Reading List (All Free or Low Cost)\\n\\n| Title | Link | Focus |\\n|-------|------|-------|\\n| *C++ Primer* (5th Edition) | https://www.amazon.com/C-Primer-5th-Stanley-B-Lippman/dp/0321714113 | Fundamentals |\\n| *Effective Modern C++* | https://www.amazon.com/Effective-Modern-Specific-Ways-Improve/dp/1491903996 | Modern C++ best practices |\\n| *The C++ Programming Language* | https://www.amazon.com/Programming-Language-5th-Bjarne-Stroustrup/dp/0321563840 | Comprehensive |\\n| *C++ Standard Library* | https://www.amazon.com/C-Standard-Library-Complete-Reference/dp/0596007698 | STL deep dive |\\n| *C++ Concurrency in Action* | https://www.amazon.com/Concurrency-Action-Second-Jeffrey-Scott/dp/1617294695 | Threading & async |\\n\\n---\\n\\n## 🎥 Video Series (Free)\\n\\n| Platform | Course | Highlights |\\n|----------|--------|------------|\\n| YouTube – freeCodeCamp | “C++ Full Course” (10+ hours) | Complete beginner to intermediate |\\n| YouTube – The Cherno | “C++ Programming” | Modern C++ with practical projects |\\n| Pluralsight | “C++ Fundamentals” (Trial) | Structured, interactive learning |\\n\\n---\\n\\n## 📅 Sample 4‑Week Schedule (Part‑time)\\n\\n| Week | Focus | Time/Day |\\n|------|-------|----------|\\n| 1 | Setup + Basics | 2\\u202fhrs/day (Mon‑Fri) |\\n| 2 | Core language + OOP | 2\\u202fhrs/day |\\n| 3 | Modern C++ + STL | 2\\u202fhrs/day |\\n| 4 | Project + Build tools | 2\\u202fhrs/day |\\n\\nAdjust based on your pace. Consistency beats intensity.\\n\\n---\\n\\n## 🤝 Next Steps\\n\\n1. **Pick an IDE** (VS\\u202fCode + C++ extension is lightweight and cross‑platform).\\n2. **Write your first “Hello, World!”** and confirm the compiler works.\\n3. **Start the “Personal Finance Tracker”** as outlined above.\\n4. **Ask questions**: What specific topic confuses you? Want a deeper dive into templates? Need help setting up CMake?\\n\\nFeel free to drop a question or a milestone you hit—happy to help you debug or expand!'"
      ]
     },
     "execution_count": 7,
     "metadata": {},
     "output_type": "execute_result"
    }
   ],
   "source": [
    "response = llm.invoke(messages)\n",
    "response.content"
   ]
  },
  {
   "cell_type": "code",
   "execution_count": 8,
   "id": "00706ffc",
   "metadata": {},
   "outputs": [
    {
     "name": "stdout",
     "output_type": "stream",
     "text": [
      "### 🚀 Quick‑Start Roadmap for Learning C++ (2025)\n",
      "\n",
      "| Stage | What you’ll learn | Why it matters | Suggested resources | Practice ideas |\n",
      "|-------|-------------------|----------------|---------------------|----------------|\n",
      "| **1️⃣ Setup & Basics** | Install a compiler, IDE, and write “Hello, World!” | You need a working environment and the syntax of C++ fundamentals. | • **IDE**: Visual Studio Code (VS Code) + C/C++ extension<br>• **Compiler**: GCC (Linux/macOS) or MSVC (Windows)<br>• **Tutorial**: “C++ Primer” – Chapters 1‑3 or the free **cppreference.com** “Getting Started” guide | Write a program that prints your name, age, and a short message. |\n",
      "| **2️⃣ Core Language Features** | Variables, data types, operators, control flow, functions, arrays, pointers, references | These are the building blocks of every C++ program. | • **Book**: *C++ Primer* (Chapters 4‑8)<br>• **Online**: **LearnCpp.com** (chapters 4‑12)<br>• **Video**: “C++ Programming Basics” (YouTube – freeCodeCamp) | Create a simple calculator that takes two numbers and an operator (+, -, *, /). |\n",
      "| **3️⃣ Object‑Oriented Programming (OOP)** | Classes, objects, encapsulation, inheritance, polymorphism, constructors/destructors | C++ shines in systems programming and game dev because of OOP. | • **Book**: *Effective Modern C++* (Section on OOP)<br>• **Course**: “Object-Oriented Programming in C++” (Coursera, Udemy) | Build a tiny “Bank Account” system: deposit, withdraw, balance, interest. |\n",
      "| **4️⃣ Modern C++ (C++17/20/23)** | `auto`, range‑based loops, smart pointers (`std::unique_ptr`, `std::shared_ptr`), STL containers, lambdas, `std::optional`, `std::variant`, `constexpr` | Modern C++ reduces boilerplate, improves safety, and boosts performance. | • **Book**: *The C++ Programming Language, 5th Edition* (Modern C++ chapters)<br>• **Blog**: “The Modern C++ Handbook” (https://modern-cpp.org)<br>• **Video**: “C++17 Features” (Bobby G) | Rewrite your calculator using `std::vector` for inputs and `std::function` for operations. |\n",
      "| **5️⃣ Memory Management & Performance** | Stack vs heap, RAII, move semantics, `std::move`, `std::swap`, cache‑friendly data structures | C++ is used in high‑performance domains; understanding memory is essential. | • **Book**: *Effective Modern C++* – “Move semantics” and “RAII” chapters<br>• **Tutorial**: “C++ Memory Management” (cppreference.com) | Implement a simple `Vector` class that resizes dynamically (like `std::vector`). |\n",
      "| **6️⃣ Standard Library Mastery** | `<algorithm>`, `<numeric>`, `<thread>`, `<future>`, `<filesystem>`, `<chrono>`, `<regex>` | The STL is your best friend; it saves you from reinventing the wheel. | • **Book**: *C++ Standard Library – The Complete Reference* (O’Reilly)<br>• **Online**: cppreference.com “Algorithms” section | Sort a list of random numbers, find the median, and time the operation with `<chrono>`. |\n",
      "| **7️⃣ Build Tools & CI** | CMake, Makefile, Git, GitHub Actions | Real projects need reproducible builds and version control. | • **Tutorial**: “CMake for C++” (CMake.org) <br>• **Guide**: “Git Basics” (GitHub Docs) | Create a small library (e.g., a math library), add a CMakeLists.txt, push to GitHub, and set up a GitHub Actions workflow to run tests. |\n",
      "| **8️⃣ Testing & Debugging** | Unit tests (`GoogleTest`), assertions, debugging with GDB/LLDB, sanitizers | Bugs are inevitable; learning to find and fix them is vital. | • **Book**: *C++ Testing with GoogleTest* (Meyers) <br>• **Video**: “Debugging C++ with GDB” (YouTube) | Write tests for your `Vector` class, run them with `make test`, and debug a failing test. |\n",
      "| **9️⃣ Real‑World Projects** | Build a console game, a simple file‑based database, or a tiny web server using sockets | Projects cement concepts and show you how to tackle bigger problems. | • **Guide**: “Build a C++ Game Engine” (YouTube – TheCherno) <br>• **Project**: “Create a Command‑Line To‑Do App” (GitHub) | Develop a “Todo” CLI app that stores tasks in a text file, supports add/remove/list, and uses `std::filesystem`. |\n",
      "| **🔟 Keep Learning** | Design patterns, concurrency, networking, template metaprogramming | C++ is deep; staying updated keeps you competitive. | • **Book**: *Design Patterns in C++* (Bjarne Stroustrup) <br>• **Course**: “Concurrency in Modern C++” (Pluralsight) | Contribute to an open‑source C++ library on GitHub; this will expose you to real‑world codebases. |\n",
      "\n",
      "---\n",
      "\n",
      "## 🌟 Your First Mini‑Project: “Personal Finance Tracker”\n",
      "\n",
      "1. **Goal**: Store transactions (date, description, amount) in a file; read, add, list, and calculate the balance.\n",
      "2. **Why?** It covers:\n",
      "   - File I/O (`std::ifstream`, `std::ofstream`)\n",
      "   - Containers (`std::vector`)\n",
      "   - Algorithms (`std::sort`, `std::accumulate`)\n",
      "   - Classes & objects\n",
      "   - Modern C++ features (`std::string_view`, `auto`, `std::optional`)\n",
      "3. **Step‑by‑step**:\n",
      "   1. Define a `Transaction` struct with `std::string date`, `description`, `double amount`.\n",
      "   2. Create a `FinanceTracker` class that holds a `std::vector<Transaction>`.\n",
      "   3. Implement `loadFromFile(const std::string&)` and `saveToFile(const std::string&)`.\n",
      "   4. Add methods: `addTransaction`, `listTransactions`, `calculateBalance`.\n",
      "   5. Write a `main()` that shows a menu: 1) Add, 2) List, 3) Balance, 4) Exit.\n",
      "4. **Tools**:\n",
      "   - Use CMake: `cmake_minimum_required(VERSION 3.20)` etc.\n",
      "   - Add a `tests/` folder with a few GoogleTest cases.\n",
      "\n",
      "---\n",
      "\n",
      "## 📚 Suggested Reading List (All Free or Low Cost)\n",
      "\n",
      "| Title | Link | Focus |\n",
      "|-------|------|-------|\n",
      "| *C++ Primer* (5th Edition) | https://www.amazon.com/C-Primer-5th-Stanley-B-Lippman/dp/0321714113 | Fundamentals |\n",
      "| *Effective Modern C++* | https://www.amazon.com/Effective-Modern-Specific-Ways-Improve/dp/1491903996 | Modern C++ best practices |\n",
      "| *The C++ Programming Language* | https://www.amazon.com/Programming-Language-5th-Bjarne-Stroustrup/dp/0321563840 | Comprehensive |\n",
      "| *C++ Standard Library* | https://www.amazon.com/C-Standard-Library-Complete-Reference/dp/0596007698 | STL deep dive |\n",
      "| *C++ Concurrency in Action* | https://www.amazon.com/Concurrency-Action-Second-Jeffrey-Scott/dp/1617294695 | Threading & async |\n",
      "\n",
      "---\n",
      "\n",
      "## 🎥 Video Series (Free)\n",
      "\n",
      "| Platform | Course | Highlights |\n",
      "|----------|--------|------------|\n",
      "| YouTube – freeCodeCamp | “C++ Full Course” (10+ hours) | Complete beginner to intermediate |\n",
      "| YouTube – The Cherno | “C++ Programming” | Modern C++ with practical projects |\n",
      "| Pluralsight | “C++ Fundamentals” (Trial) | Structured, interactive learning |\n",
      "\n",
      "---\n",
      "\n",
      "## 📅 Sample 4‑Week Schedule (Part‑time)\n",
      "\n",
      "| Week | Focus | Time/Day |\n",
      "|------|-------|----------|\n",
      "| 1 | Setup + Basics | 2 hrs/day (Mon‑Fri) |\n",
      "| 2 | Core language + OOP | 2 hrs/day |\n",
      "| 3 | Modern C++ + STL | 2 hrs/day |\n",
      "| 4 | Project + Build tools | 2 hrs/day |\n",
      "\n",
      "Adjust based on your pace. Consistency beats intensity.\n",
      "\n",
      "---\n",
      "\n",
      "## 🤝 Next Steps\n",
      "\n",
      "1. **Pick an IDE** (VS Code + C++ extension is lightweight and cross‑platform).\n",
      "2. **Write your first “Hello, World!”** and confirm the compiler works.\n",
      "3. **Start the “Personal Finance Tracker”** as outlined above.\n",
      "4. **Ask questions**: What specific topic confuses you? Want a deeper dive into templates? Need help setting up CMake?\n",
      "\n",
      "Feel free to drop a question or a milestone you hit—happy to help you debug or expand!\n"
     ]
    }
   ],
   "source": [
    "print(response.content)"
   ]
  },
  {
   "cell_type": "code",
   "execution_count": null,
   "id": "c905099e",
   "metadata": {},
   "outputs": [],
   "source": []
  },
  {
   "cell_type": "code",
   "execution_count": null,
   "id": "14351ea9",
   "metadata": {},
   "outputs": [],
   "source": []
  },
  {
   "cell_type": "code",
   "execution_count": null,
   "id": "7f427764",
   "metadata": {},
   "outputs": [],
   "source": []
  },
  {
   "cell_type": "code",
   "execution_count": null,
   "id": "f69bb09e",
   "metadata": {},
   "outputs": [],
   "source": []
  },
  {
   "cell_type": "code",
   "execution_count": null,
   "id": "85e7ce2f",
   "metadata": {},
   "outputs": [],
   "source": []
  },
  {
   "cell_type": "code",
   "execution_count": null,
   "id": "c7b696ad",
   "metadata": {},
   "outputs": [],
   "source": []
  },
  {
   "cell_type": "code",
   "execution_count": null,
   "id": "488e0c3c",
   "metadata": {},
   "outputs": [],
   "source": []
  },
  {
   "cell_type": "code",
   "execution_count": null,
   "id": "e4f2815a",
   "metadata": {},
   "outputs": [],
   "source": []
  },
  {
   "cell_type": "code",
   "execution_count": null,
   "id": "20fa99b7",
   "metadata": {},
   "outputs": [],
   "source": []
  },
  {
   "cell_type": "code",
   "execution_count": null,
   "id": "6dc91b12",
   "metadata": {},
   "outputs": [],
   "source": []
  },
  {
   "cell_type": "code",
   "execution_count": null,
   "id": "54127e6d",
   "metadata": {},
   "outputs": [],
   "source": []
  },
  {
   "cell_type": "code",
   "execution_count": null,
   "id": "fe93519f",
   "metadata": {},
   "outputs": [],
   "source": []
  },
  {
   "cell_type": "code",
   "execution_count": null,
   "id": "4800b031",
   "metadata": {},
   "outputs": [],
   "source": []
  },
  {
   "cell_type": "code",
   "execution_count": null,
   "id": "a75f94d6",
   "metadata": {},
   "outputs": [],
   "source": []
  },
  {
   "cell_type": "code",
   "execution_count": null,
   "id": "64ac8fe2",
   "metadata": {},
   "outputs": [],
   "source": []
  },
  {
   "cell_type": "code",
   "execution_count": null,
   "id": "74ef6ced",
   "metadata": {},
   "outputs": [],
   "source": []
  },
  {
   "cell_type": "code",
   "execution_count": null,
   "id": "50aeba41",
   "metadata": {},
   "outputs": [],
   "source": []
  },
  {
   "cell_type": "code",
   "execution_count": null,
   "id": "36ee69a6",
   "metadata": {},
   "outputs": [],
   "source": []
  },
  {
   "cell_type": "code",
   "execution_count": null,
   "id": "5002f74c",
   "metadata": {},
   "outputs": [],
   "source": []
  },
  {
   "cell_type": "code",
   "execution_count": null,
   "id": "006ce80a",
   "metadata": {},
   "outputs": [],
   "source": []
  },
  {
   "cell_type": "code",
   "execution_count": null,
   "id": "1976e427",
   "metadata": {},
   "outputs": [],
   "source": []
  },
  {
   "cell_type": "code",
   "execution_count": null,
   "id": "739d8c48",
   "metadata": {},
   "outputs": [],
   "source": []
  },
  {
   "cell_type": "code",
   "execution_count": null,
   "id": "3e44ce8d",
   "metadata": {},
   "outputs": [],
   "source": []
  },
  {
   "cell_type": "code",
   "execution_count": null,
   "id": "d8946d1c",
   "metadata": {},
   "outputs": [],
   "source": []
  },
  {
   "cell_type": "code",
   "execution_count": null,
   "id": "86cf6e33",
   "metadata": {},
   "outputs": [],
   "source": []
  },
  {
   "cell_type": "code",
   "execution_count": null,
   "id": "f100b1ee",
   "metadata": {},
   "outputs": [],
   "source": []
  },
  {
   "cell_type": "code",
   "execution_count": null,
   "id": "2fff1507",
   "metadata": {},
   "outputs": [],
   "source": []
  }
 ],
 "metadata": {
  "kernelspec": {
   "display_name": "venv",
   "language": "python",
   "name": "python3"
  },
  "language_info": {
   "codemirror_mode": {
    "name": "ipython",
    "version": 3
   },
   "file_extension": ".py",
   "mimetype": "text/x-python",
   "name": "python",
   "nbconvert_exporter": "python",
   "pygments_lexer": "ipython3",
   "version": "3.12.11"
  }
 },
 "nbformat": 4,
 "nbformat_minor": 5
}
