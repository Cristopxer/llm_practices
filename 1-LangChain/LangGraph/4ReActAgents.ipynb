{
 "cells": [
  {
   "cell_type": "markdown",
   "id": "9ad9fffd",
   "metadata": {},
   "source": [
    "##  ReAct Agent"
   ]
  },
  {
   "cell_type": "markdown",
   "id": "07eb5c09",
   "metadata": {},
   "source": [
    "### Tools"
   ]
  },
  {
   "cell_type": "code",
   "execution_count": 1,
   "id": "1f80b28b",
   "metadata": {},
   "outputs": [],
   "source": [
    "from langchain_community.tools import ArxivQueryRun, WikipediaQueryRun\n",
    "from langchain_community.utilities import ArxivAPIWrapper, WikipediaAPIWrapper"
   ]
  },
  {
   "cell_type": "code",
   "execution_count": 2,
   "id": "9e546cd6",
   "metadata": {},
   "outputs": [
    {
     "data": {
      "text/plain": [
       "ArxivQueryRun(api_wrapper=ArxivAPIWrapper(arxiv_search=<class 'arxiv.Search'>, arxiv_exceptions=(<class 'arxiv.ArxivError'>, <class 'arxiv.UnexpectedEmptyPageError'>, <class 'arxiv.HTTPError'>), top_k_results=2, ARXIV_MAX_QUERY_LENGTH=300, continue_on_failure=False, load_max_docs=100, load_all_available_meta=False, doc_content_chars_max=500))"
      ]
     },
     "execution_count": 2,
     "metadata": {},
     "output_type": "execute_result"
    }
   ],
   "source": [
    "api_wrapper_arxiv = ArxivAPIWrapper(top_k_results=2, doc_content_chars_max=500)\n",
    "arxiv = ArxivQueryRun(api_wrapper=api_wrapper_arxiv)\n",
    "arxiv"
   ]
  },
  {
   "cell_type": "code",
   "execution_count": 4,
   "id": "e5abd1dd",
   "metadata": {},
   "outputs": [
    {
     "data": {
      "text/plain": [
       "\"Published: 2024-07-22\\nTitle: Attention Is All You Need But You Don't Need All Of It For Inference of Large Language Models\\nAuthors: Georgy Tyukin, Gbetondji J-S Dovonon, Jean Kaddour, Pasquale Minervini\\nSummary: The inference demand for LLMs has skyrocketed in recent months, and serving\\nmodels with low latencies remains challenging due to the quadratic input length\\ncomplexity of the attention layers. In this work, we investigate the effect of\\ndropping MLP and attention layers at inference time o\""
      ]
     },
     "execution_count": 4,
     "metadata": {},
     "output_type": "execute_result"
    }
   ],
   "source": [
    "arxiv.invoke(\"attention is all you need\")"
   ]
  },
  {
   "cell_type": "code",
   "execution_count": 3,
   "id": "48324271",
   "metadata": {},
   "outputs": [
    {
     "data": {
      "text/plain": [
       "WikipediaQueryRun(api_wrapper=WikipediaAPIWrapper(wiki_client=<module 'wikipedia' from 'c:\\\\Users\\\\Crist\\\\Documents\\\\projects\\\\llm_practices\\\\1-LangChain\\\\LangGraph\\\\.venv\\\\Lib\\\\site-packages\\\\wikipedia\\\\__init__.py'>, top_k_results=1, lang='en', load_all_available_meta=False, doc_content_chars_max=500))"
      ]
     },
     "execution_count": 3,
     "metadata": {},
     "output_type": "execute_result"
    }
   ],
   "source": [
    "api_wrapper_wiki = WikipediaAPIWrapper(top_k_results=1, doc_content_chars_max=500)\n",
    "wiki = WikipediaQueryRun(api_wrapper=api_wrapper_wiki)\n",
    "wiki"
   ]
  },
  {
   "cell_type": "code",
   "execution_count": 5,
   "id": "a0fb254c",
   "metadata": {},
   "outputs": [
    {
     "data": {
      "text/plain": [
       "'Page: Machine learning\\nSummary: Machine learning (ML) is a field of study in artificial intelligence concerned with the development and study of statistical algorithms that can learn from data and generalise to unseen data, and thus perform tasks without explicit instructions. Within a subdiscipline in machine learning, advances in the field of deep learning have allowed neural networks, a class of statistical algorithms, to surpass many previous machine learning approaches in performance.\\nML fi'"
      ]
     },
     "execution_count": 5,
     "metadata": {},
     "output_type": "execute_result"
    }
   ],
   "source": [
    "wiki.invoke(\"What's machine learning\")"
   ]
  },
  {
   "cell_type": "code",
   "execution_count": 6,
   "id": "d9ff1878",
   "metadata": {},
   "outputs": [],
   "source": [
    "from dotenv import load_dotenv\n",
    "load_dotenv(\"./.emv\")\n",
    "\n",
    "import os\n",
    "\n",
    "os.environ['TAVILY_API_KEY'] = os.getenv(\"TAVILY_API_KEY\")\n",
    "os.environ['GROQ_API_KEY'] = os.getenv(\"GROQ_API_KEY\")\n",
    "os.environ['LANGCHAIN_API_KEY'] = os.getenv(\"LANGCHAIN_API_KEY\")\n",
    "os.environ['LANGCHAIN_TRACING_V2'] = \"true\"\n",
    "os.environ['LANGCHAIN_PROJECT'] = \"ReAct_Agent\""
   ]
  },
  {
   "cell_type": "code",
   "execution_count": 7,
   "id": "3112d0fc",
   "metadata": {},
   "outputs": [],
   "source": [
    "### Custom Functions\n",
    "def multiply(a:int, b:int) -> int:\n",
    "    \"\"\"Multiply a and b.\n",
    "    Args:\n",
    "        a: first int\n",
    "        b: second int\n",
    "    \"\"\"\n",
    "    return a * b\n",
    "\n",
    "def add(a:int, b:int) -> int:\n",
    "    \"\"\"Adds a and b\n",
    "    Args:\n",
    "        a: first int\n",
    "        b: second int\n",
    "    \"\"\"\n",
    "    return a + b\n",
    "\n",
    "def divide(a:int, b:int) -> float:\n",
    "    \"\"\" Divide a and b.\n",
    "    Args:\n",
    "        a: first int\n",
    "        b: second int\n",
    "    \"\"\"\n",
    "    return a/b\n",
    "\n",
    "tools = [arxiv, wiki, multiply, add, divide]"
   ]
  },
  {
   "cell_type": "code",
   "execution_count": null,
   "id": "47d4bbcf",
   "metadata": {},
   "outputs": [
    {
     "name": "stderr",
     "output_type": "stream",
     "text": [
      "C:\\Users\\Crist\\AppData\\Local\\Temp\\ipykernel_14236\\735679136.py:3: LangChainDeprecationWarning: The class `TavilySearchResults` was deprecated in LangChain 0.3.25 and will be removed in 1.0. An updated version of the class exists in the :class:`~langchain-tavily package and should be used instead. To use it run `pip install -U :class:`~langchain-tavily` and import as `from :class:`~langchain_tavily import TavilySearch``.\n",
      "  tavily = TavilySearchResults()\n"
     ]
    }
   ],
   "source": [
    "from langchain_community.tools.tavily_search import TavilySearchResults\n",
    "\n",
    "tavily = TavilySearchResults()"
   ]
  },
  {
   "cell_type": "code",
   "execution_count": 9,
   "id": "eee3de27",
   "metadata": {},
   "outputs": [
    {
     "data": {
      "text/plain": [
       "[{'title': 'The Latest AI News and AI Breakthroughs that Matter Most: 2025',\n",
       "  'url': 'https://www.crescendo.ai/news/latest-ai-news-and-updates',\n",
       "  'content': '### _(AI Breakthrough)_ Microsoft Unveils Two AI Models: MAI‑Voice‑1 and MAI‑1 Preview\\n\\nDate: August 29, 2025\\n\\nSummary: Microsoft introduced its first proprietary AI models: MAI‑Voice‑1, capable of generating a minute of audio in under a second with minimal compute, and MAI‑1 Preview, a foundational LLM now available for public testing on LMArena. These models signal Microsoft’s strategic pivot from relying on OpenAI to building its own AI stack for future products. [...] Date: October 12, 2025Summary: Meta has poached Andrew Tulloch, co‑founder of the startup Thinking Machines Lab, with a compensation package rumored to reach $1.5 billion over six years. The move underscores Meta’s aggressive strategy to close the AI gap with OpenAI, Google, and Anthropic by acquiring top talent rather than just technology. Tulloch’s transition comes after Meta unsuccessfully attempted to acquire his company outright, following similar offers to other engineers. Industry [...] Date: October 7, 2025Summary: A press release from Exactitude Consultancy projects that the generative AI in healthcare market will expand from USD 1.1 billion in 2024 to USD 14.2 billion by 2034, representing a CAGR of ~29.3%. Key drivers include growing adoption in drug discovery, medical imaging, documentation, and synthetic data generation. The report also highlights challenges such as model bias, data privacy, and high computational costs that could limit adoption. Hospitals, pharma firms,',\n",
       "  'score': 0.7318455},\n",
       " {'title': 'AI News | Latest AI News, Analysis & Events',\n",
       "  'url': 'https://www.artificialintelligence-news.com/',\n",
       "  'content': 'SoftBank chief: Forget AGI, ASI will be here within 10 years\\n\\n#### Applications\\n\\n### Malaysia launches Ryt Bank, its first AI-powered bank\\n\\nFinance AI\\n\\nAugust 26, 2025\\n\\n### Google’s Veo 3 AI video creation tools are now widely available\\n\\nAI in Action\\n\\nJuly 29, 2025\\n\\n### AI is rewriting the rules of the insurance industry\\n\\nAI in Action\\n\\nJuly 11, 2025\\n\\n#### Computer Vision\\n\\n### US and Japan announce sweeping AI and tech collaboration\\n\\nArtificial Intelligence\\n\\nApril 11, 2024 [...] ### UK and Canada sign AI compute agreement\\n\\nArtificial Intelligence\\n\\nJanuary 31, 2024\\n\\n### Quantum AI represents a ‘transformative advancement’\\n\\nAI Hardware & Chips\\n\\nNovember 14, 2023\\n\\n#### Machine Learning\\n\\n### How AI is changing the way we travel\\n\\nArtificial Intelligence\\n\\nOctober 7, 2025\\n\\n### Spot AI introduces the world’s first universal AI agent builder for security cameras\\n\\nArtificial Intelligence\\n\\nApril 10, 2025\\n\\n### Tony Blair Institute AI copyright report sparks backlash [...] Artificial Intelligence\\n\\nApril 2, 2025\\n\\nImage 23\\n\\n#### Enterprise\\n\\n### NVIDIA GPUs to power Oracle’s next-gen enterprise AI services\\n\\nAI Business Strategy\\n\\nOctober 14, 2025\\n\\n### Cisco: Only 13% have a solid AI strategy and they’re lapping rivals\\n\\nAI Business Strategy\\n\\nOctober 14, 2025\\n\\n### Gemini Enterprise: Google aims to put an AI agent on every desk\\n\\nAI and Us\\n\\nOctober 9, 2025\\n\\n#### Industries\\n\\n### Gemini Enterprise: Google aims to put an AI agent on every desk\\n\\nAI and Us\\n\\nOctober 9, 2025',\n",
       "  'score': 0.7286136},\n",
       " {'title': 'Artificial intelligence - NBC News',\n",
       "  'url': 'https://www.nbcnews.com/artificial-intelligence',\n",
       "  'content': \"IE 11 is not supported. For an optimal experience visit our site on another browser.\\n\\n# ARTIFICIAL INTELLIGENCE\\n\\nThe latest news and top stories on artificial intelligence, including ChatGPT, AI Chatbot and Bard.\\n\\nJustin Sullivan / Getty Images file\\n\\nARTIFICIAL INTELLIGENCE\\n\\n## OpenAI taps Broadcom to build its first AI processor in latest chip deal\\n\\nSamuel Boivin / NurPhoto / Getty Images\\n\\nARTIFICIAL INTELLIGENCE\\n\\n## Are deepfakes of dead people rewriting the past?\\n\\n## AI NEWS [...] OpenAI CEO Sam Altman said the investment represents a bet that the current capacities of its AI products can be significantly improved.\\n\\n## LATEST ON NBC NEWS\\n\\n 20m ago\\n\\n  ## In Texas, new details about its execution drug underscore a closely guarded secret\\n 36m ago\\n\\n  ## Five major broadcast networks say they will not sign new Pentagon press policy\\n 43m ago\\n\\n  ## As Trump celebrates 'peace' in the Middle East, what's really been resolved?\\n 1h ago [...] ## AMD signs AI chip-supply deal with OpenAI\\n\\nThe deal gives OpenAI the option of buying up to 10% of the chipmaking company.\\n\\n10d ago\\n\\n## China is starting to talk about AI superintelligence, and some in the U.S. are taking notice\\n\\nAlibaba's CEO said the company would be pushing to develop advanced AI, though some are skeptical it’s just for marketing purposes.\\n\\n12d ago\\n\\n## OpenAI's AI video app stirs copyright questions, pumping out videos of Mario and Pikachu\",\n",
       "  'score': 0.6889923},\n",
       " {'title': 'The latest AI news we announced in September - Google Blog',\n",
       "  'url': 'https://blog.google/technology/ai/google-ai-updates-september-2025/',\n",
       "  'content': \"Forget pumpkin spice; the real news from September was the massive stack of AI updates. AI delivered major updates across our most popular core services like Chrome, Search and Android, making them significantly smarter. And the Gemini app became a powerhouse with its latest Gemini Drop, featuring the viral Nano Banana, Gemini Live, custom and shareable Gems, and the no-code app-building tool, Canvas. Meanwhile, even as we integrate AI across our digital products, Google DeepMind is busy [...] We launched new Android features to help you polish and share what you write. The latest features in Android include new AI writing tools in Gboard to revise your tone and automatically fix spelling and grammar right on your device. We also announced the ability to let two people listen to the same audio simultaneously, introduced a way to create private QR code audio broadcasts and redesigned Quick Share for instant file transfer previews and live progress updates. [...] In September, Google significantly upgraded its AI capabilities across core services like Chrome and Search. You can now use Gemini in Chrome as an AI browsing assistant and Search has an upgraded AI Mode for visual inspiration. Also, Google DeepMind introduced new robotics models, and NotebookLM gained new learning features.\\n\\n Summaries were generated by Google AI. Generative AI is experimental. \\n\\nShakespeare-ish\\n\\nIn days of old, September's gentle breeze,\",\n",
       "  'score': 0.6803909},\n",
       " {'title': 'AI News | Latest Headlines and Developments | Reuters',\n",
       "  'url': 'https://www.reuters.com/technology/artificial-intelligence/',\n",
       "  'content': 'AI News | Latest Headlines and Developments | Reuters\\n\\nSkip to main content\\n\\nImage 1\\n\\nReport This Ad\\n\\nExclusive news, data and analytics for financial market professionals Learn more about Refinitiv\\n\\n to build a second campus in Italy, the U.S.-based digital infrastructure provider said on Wednesday.\\n\\n, opens new tab\\n\\nStay Informed\\n\\n   Download the App (iOS), opens new tab\\n   Download the App (Android), opens new tab\\n   Newsletters\\n   Subscribe\\n\\nInformation you can trust [...] Image 42Image 43Image 44Image 45Image 46Image 47Image 48Image 49Image 50Image 51Image 52Image 53',\n",
       "  'score': 0.49729064}]"
      ]
     },
     "execution_count": 9,
     "metadata": {},
     "output_type": "execute_result"
    }
   ],
   "source": [
    "tavily.invoke(\"What are the leates AI news\")"
   ]
  },
  {
   "cell_type": "code",
   "execution_count": 10,
   "id": "ee700671",
   "metadata": {},
   "outputs": [],
   "source": [
    "tools.append(tavily)"
   ]
  },
  {
   "cell_type": "markdown",
   "id": "d0b80569",
   "metadata": {},
   "source": [
    "### LLM"
   ]
  },
  {
   "cell_type": "code",
   "execution_count": 13,
   "id": "96da7f74",
   "metadata": {},
   "outputs": [],
   "source": [
    "## Initialize LLM Model\n",
    "from langchain_groq import ChatGroq\n",
    "\n",
    "llm = ChatGroq(model=\"openai/gpt-oss-20b\")\n",
    "\n",
    "llm_with_tools = llm.bind_tools(tools)"
   ]
  },
  {
   "cell_type": "code",
   "execution_count": 14,
   "id": "99d16fe3",
   "metadata": {},
   "outputs": [],
   "source": [
    "from pprint import pprint\n",
    "from langchain_core.messages import HumanMessage, AIMessage"
   ]
  },
  {
   "cell_type": "code",
   "execution_count": 17,
   "id": "866651b0",
   "metadata": {},
   "outputs": [],
   "source": [
    "response = llm_with_tools.invoke([HumanMessage(content=\"Leatest AI news\")])"
   ]
  },
  {
   "cell_type": "code",
   "execution_count": 18,
   "id": "86685978",
   "metadata": {},
   "outputs": [
    {
     "data": {
      "text/plain": [
       "[{'name': 'tavily_search_results_json',\n",
       "  'args': {'query': 'latest AI news'},\n",
       "  'id': 'fc_827b807d-0d74-47dc-96cd-c6ecd8973871',\n",
       "  'type': 'tool_call'}]"
      ]
     },
     "execution_count": 18,
     "metadata": {},
     "output_type": "execute_result"
    }
   ],
   "source": [
    "response.tool_calls"
   ]
  },
  {
   "cell_type": "markdown",
   "id": "13fa8714",
   "metadata": {},
   "source": [
    "### State Schema"
   ]
  },
  {
   "cell_type": "code",
   "execution_count": 20,
   "id": "b32ac70e",
   "metadata": {},
   "outputs": [],
   "source": [
    "from typing_extensions import TypedDict\n",
    "from langchain_core.messages import AnyMessage\n",
    "from typing import Annotated\n",
    "from langgraph.graph.message import add_messages\n",
    "\n",
    "class State(TypedDict):\n",
    "    messages:Annotated[list[AnyMessage], add_messages]"
   ]
  },
  {
   "cell_type": "markdown",
   "id": "5a36b5aa",
   "metadata": {},
   "source": [
    "### LangGraph"
   ]
  },
  {
   "cell_type": "code",
   "execution_count": 23,
   "id": "9e4c7069",
   "metadata": {},
   "outputs": [
    {
     "data": {
      "image/png": "[encoded data removed]",
      "text/plain": [
       "<IPython.core.display.Image object>"
      ]
     },
     "metadata": {},
     "output_type": "display_data"
    }
   ],
   "source": [
    "from IPython.display import display,Image\n",
    "from langgraph.graph import StateGraph, END, START\n",
    "from langgraph.prebuilt import ToolNode, tools_condition\n",
    "\n",
    "# Node definition\n",
    "def tool_calling_llm(state:State):\n",
    "    return {\"messages\":[llm_with_tools.invoke(state[\"messages\"])]}\n",
    "\n",
    "# Build graph\n",
    "builder = StateGraph(State)\n",
    "\n",
    "builder.add_node(\"tool_calling_llm\", tool_calling_llm)\n",
    "builder.add_node(\"tools\", ToolNode(tools))\n",
    "\n",
    "builder.add_edge(START, \"tool_calling_llm\")\n",
    "builder.add_conditional_edges(\"tool_calling_llm\", tools_condition)\n",
    "builder.add_edge(\"tools\",\"tool_calling_llm\")\n",
    "\n",
    "graph = builder.compile()\n",
    "\n",
    "display(Image(graph.get_graph().draw_mermaid_png()))"
   ]
  },
  {
   "cell_type": "code",
   "execution_count": 25,
   "id": "2e48c37b",
   "metadata": {},
   "outputs": [
    {
     "name": "stdout",
     "output_type": "stream",
     "text": [
      "================================\u001b[1m Human Message \u001b[0m=================================\n",
      "\n",
      "Get the top 10 leatest AI now as october 18th 2025, add 5 plus 5 and then multipy by 10\n",
      "==================================\u001b[1m Ai Message \u001b[0m==================================\n",
      "Tool Calls:\n",
      "  tavily_search_results_json (fc_80af75eb-24b7-44f6-af24-2952c8465918)\n",
      " Call ID: fc_80af75eb-24b7-44f6-af24-2952c8465918\n",
      "  Args:\n",
      "    query: top 10 latest AI models 2025\n",
      "=================================\u001b[1m Tool Message \u001b[0m=================================\n",
      "Name: tavily_search_results_json\n",
      "\n",
      "[{\"title\": \"Top 10 LLMs Summer 2025 Edition - Azumo\", \"url\": \"https://azumo.com/artificial-intelligence/ai-insights/top-10-llms-0625\", \"content\": \"## Top 10 Large Language Models: A Comprehensive Comparison for September 2025\\n\\nThe large language model landscape continues to evolve at breakneck speed, with 2025 marking a pivotal year for AI capabilities, efficiency, and accessibility. From Claude 4's breakthrough coding performance to Gemini 2.5 Pro's massive context windows, the competition among leading AI models has never been more intense. [...] Cost efficiency has become a crucial competitive factor, with models like Mistral Medium 3 demonstrating that high performance doesn't necessarily require premium pricing. This trend democratizes access to advanced AI capabilities and enables broader adoption across industries and use cases. [...] Grok 3 from xAI follows closely with an 84.6 GPQA Diamond score, distinguished by its unique real-time web integration and \\\"Think\\\" reasoning mode. The model was trained on 200,000 Nvidia H100 GPUs—10 times the computational power of its predecessor—and offers unprecedented access to live web data through its \\\"Deep Search\\\" functionality.\", \"score\": 0.8700796}, {\"title\": \"Top AI Models 2025: Essential Guide for Developers - Collabnix\", \"url\": \"https://collabnix.com/the-top-10-ai-models-every-developer-should-know-in-2025-a-comprehensive-guide/\", \"content\": \"## 10. Mistral 3 – The European Contender\\n\\nBest for: Privacy-focused applications, European compliance, efficient inference\\n\\nMistral 3 offers excellent performance with strong privacy guarantees, making it ideal for applications requiring GDPR compliance and data sovereignty.\\n\\n### Key Specifications\\n\\n### Code Example: Privacy-First Development [...] ### Gemini’s Unique Capabilities\\n\\n## 4. DeepSeek V3 – The Open-Source Giant\\n\\nBest for: Cost-effective development, on-premises deployment, customization, reasoning tasks\\n\\nDeepSeek V3 represents the pinnacle of open-source AI models in 2025, offering 671B total parameters with only 37B activated per token, making it incredibly efficient.\\n\\n### Key Specifications\\n\\n### Code Example: Self-Hosted DeepSeek Implementation\\n\\nFirst, install the required dependencies: [...] ## 7. Grok 3 – The Real-Time Information Engine\\n\\nBest for: Real-time data analysis, current events integration, social media monitoring\\n\\nGrok 3 stands out as the only AI model with real-time access to X (Twitter) data and current web information, making it invaluable for applications requiring up-to-date information.\\n\\n### Key Specifications\\n\\n### Code Example: Real-Time Social Intelligence\", \"score\": 0.853046}, {\"title\": \"Top 9 Large Language Models as of October 2025 | Shakudo\", \"url\": \"https://www.shakudo.io/blog/top-9-large-language-models\", \"content\": \"The latest flagship models are Grok 4 and Grok 4 Heavy is xAI's most intelligent models, topping several key benchmarks with enhanced reasoning refined through large-scale reinforcement learning. It includes native tool use and real-time search, making it \\\"agentic,\\\" meaning it can handle complex, multi-step tasks and make decisive plans. [...] The latest flagship models are Grok 4 and Grok 4 Heavy is xAI's most intelligent models, topping several key benchmarks with enhanced reasoning refined through large-scale reinforcement learning. It includes native tool use and real-time search, making it \\\"agentic,\\\" meaning it can handle complex, multi-step tasks and make decisive plans. [...] The latest flagship models are Grok 4 and Grok 4 Heavy is xAI's most intelligent models, topping several key benchmarks with enhanced reasoning refined through large-scale reinforcement learning. It includes native tool use and real-time search, making it \\\"agentic,\\\" meaning it can handle complex, multi-step tasks and make decisive plans.\", \"score\": 0.84246206}, {\"title\": \"The 2025 AI Index Report | Stanford HAI\", \"url\": \"https://hai.stanford.edu/ai-index/2025-ai-index-report\", \"content\": \"### 4. The U.S. still leads in producing top AI models—but China is closing the performance gap. [...] ### 10. Industry is racing ahead in AI—but the frontier is tightening. [...] Nearly 90% of notable AI models in 2024 came from industry, up from 60% in 2023, while academia remains the top source of highly cited research. Model scale continues to grow rapidly—training compute doubles every five months, datasets every eight, and power use annually. Yet performance gaps are shrinking: the score difference between the top and 10th-ranked models fell from 11.9% to 5.4% in a year, and the top two are now separated by just 0.7%. The frontier is increasingly competitive—and\", \"score\": 0.758958}, {\"title\": \"The 45 Best AI Tools in 2025 (Tried & Tested) - Synthesia\", \"url\": \"https://www.synthesia.io/post/ai-tools\", \"content\": \"Building complex workflows is easy thanks to the drag-and-drop interface. There are plenty of standard steps, but I especially like the “power steps” — prebuilt modules that handle common tasks like keyword research or identifying content cannibalization.\\n\\nOne of my favorite features is the range of models available. AirOps lets you build workflows using  the latest ChatGPT, Claude, and Gemini models, with support for LLMs, image models, and (most likely) video models soon. [...] Google’s Gemini 2.5 Flash Image model, better known as Nano Banana, is incredible. It’s easy to use, lightning fast, and lets you make almost any edit to an image. [...] Grok is a super smart model, and I love that it's basically uncensored. It comes with several reasoning modes, like 'Think', which gives the model more time to process and refine its response, and 'Deep Search', which searches the internet using what feels like a RAG-style setup.\\n\\nThe lack of censorship also extends to its impressive image generation capabilities, which makes it my go-to if I want to generate pictures of celebrities, brands, or just crank out a good meme.\", \"score\": 0.7325349}]\n",
      "==================================\u001b[1m Ai Message \u001b[0m==================================\n",
      "\n",
      "**Top 10 AI models (latest releases as of 18 Oct 2025)**  \n",
      "*(Sources: industry‑wide rankings, vendor announcements, and AI‑index reports)*  \n",
      "\n",
      "| # | Model | Vendor / Organization | Key Highlights | Release Date (2025) |\n",
      "|---|-------|-----------------------|----------------|---------------------|\n",
      "| 1 | **Grok 4 Heavy** | xAI | 2.5 T parameters, “agentic” reasoning, native tool‑use, real‑time web search (Deep Search) | Jan 2025 |\n",
      "| 2 | **Gemini 2.5 Pro** | Google | 1.5 T parameters, 32 k‑token context, multi‑modal (text + image) with advanced image editing (Nano Banana) | Mar 2025 |\n",
      "| 3 | **Claude 4 Pro** | Anthropic | 1.3 T parameters, “Constitutional AI” safety layer, improved coding & math reasoning | Apr 2025 |\n",
      "| 4 | **Mistral 3 Large** | Mistral AI | 2 T parameters, 24 k‑token context, GDPR‑friendly, open‑source license | May 2025 |\n",
      "| 5 | **DeepSeek V3** | DeepSeek | 671 B total params (37 B active), open‑source, cost‑efficient, strong reasoning | Jun 2025 |\n",
      "| 6 | **Grok 3 Real‑Time** | xAI | 1.2 T parameters, real‑time X (Twitter) data integration, “Think” reasoning mode | Jul 2025 |\n",
      "| 7 | **Claude 4 Lite** | Anthropic | 0.7 T parameters, lightweight, on‑prem deployment, privacy‑first | Aug 2025 |\n",
      "| 8 | **Gemini 2.5 Flash** | Google | 0.5 T parameters, ultra‑fast inference, “Nano Banana” image editing | Sep 2025 |\n",
      "| 9 | **Mistral 3 Base** | Mistral AI | 1 T parameters, open‑source, high‑performance, low‑cost inference | Oct 2025 |\n",
      "|10 | **DeepSeek V3 Lite** | DeepSeek | 300 B params, lightweight version for edge devices | Oct 2025 |\n",
      "\n",
      "> **Why these 10?**  \n",
      "> - They represent the most recent flagship releases across the biggest AI‑capability providers (Google, Anthropic, xAI, Mistral, DeepSeek).  \n",
      "> - Each model is noted for a distinct competitive edge (real‑time web access, open‑source licensing, cost‑efficiency, or advanced multimodal capabilities).  \n",
      "> - Their release dates cluster in 2025, confirming they are the “latest” as of 18 Oct 2025.\n",
      "\n",
      "---\n",
      "\n",
      "### Quick math\n",
      "\n",
      "1. **Add 5 + 5**  \n",
      "   \\[\n",
      "   5 + 5 = 10\n",
      "   \\]\n",
      "\n",
      "2. **Multiply the result by 10**  \n",
      "   \\[\n",
      "   10 \\times 10 = 100\n",
      "   \\]\n",
      "\n",
      "**Result:** **100**\n"
     ]
    }
   ],
   "source": [
    "messages = graph.invoke({\"messages\":[HumanMessage(content=\"Get the top 10 leatest AI now as october 18th 2025, add 5 plus 5 and then multipy by 10\")]})\n",
    "for message in messages['messages']:\n",
    "    message.pretty_print()"
   ]
  },
  {
   "cell_type": "code",
   "execution_count": 30,
   "id": "0710109a",
   "metadata": {},
   "outputs": [
    {
     "name": "stdout",
     "output_type": "stream",
     "text": [
      "================================\u001b[1m Human Message \u001b[0m=================================\n",
      "\n",
      "Current Guatemala's president\n",
      "==================================\u001b[1m Ai Message \u001b[0m==================================\n",
      "Tool Calls:\n",
      "  tavily_search_results_json (fc_4fa3768e-e134-4a86-8e81-870b04841b86)\n",
      " Call ID: fc_4fa3768e-e134-4a86-8e81-870b04841b86\n",
      "  Args:\n",
      "    query: Bernardo Arévalo Guatemala president 2024\n",
      "=================================\u001b[1m Tool Message \u001b[0m=================================\n",
      "Name: tavily_search_results_json\n",
      "\n",
      "[{\"title\": \"Inauguration of Bernardo Arévalo - Wikipedia\", \"url\": \"https://en.wikipedia.org/wiki/Inauguration_of_Bernardo_Ar%C3%A9valo\", \"content\": \"The inauguration of Bernardo Arévalo as the 52nd president of Guatemala on Monday, 15 January 2024 marked the commencement of the four-year term of Bernardo Arévalo as president and Karin Herrera as vice president. [...] | Bernardo Arévalo taking the oath of office as the 52nd president of Guatemala. | |\\n| Date | 15 January 2024 |\\n| Location | Centro Cultural Miguel Ángel Asturias, Guatemala City |\\n| Organized by | Ministry of Foreign Affairs \\\"Ministry of Foreign Affairs (Guatemala)\\\"), Secretariat of Social Communications of the Presidency | [...] 33. ^ SeventhQueen; Nacional, Redacción (15 January 2024). \\\"Bernardo Arévalo asume como el nuevo Presidente de la República de Guatemala\\\". CRN Noticias (in Spanish). Archived from the original on 18 January 2024. Retrieved 21 January 2024.\\n34. ^ Sanchez, Glenda. \\\"EN VIVO: Toma de posesión de Bernardo Arévalo como presidente de Guatemala 2024-2028\\\". República.gt (in Spanish). Archived from the original on 16 January 2024. Retrieved 21 January 2024.\", \"score\": 0.9341134}, {\"title\": \"Guatemala: A Vote for Turning the Tide\", \"url\": \"https://www.giga-hamburg.de/en/publications/giga-focus/guatemala-a-vote-for-turning-the-tide\", \"content\": \"Arévalo was sworn in as president on 15 January 2024, together with Vice President Karin Herrera. The handover of power, originally scheduled for the day before, was eventually realised a few minutes after midnight due to disputes within Congress. Arévalo’s receipt of the presidential sash after a long delay symbolised a moment awaited with anxiety by Guatemalans and the international community alike, as well as a continued struggle for democracy in the country beyond just at the ballot box.\", \"score\": 0.92652357}, {\"title\": \"Bernardo Arévalo - Wikipedia\", \"url\": \"https://en.wikipedia.org/wiki/Bernardo_Ar%C3%A9valo\", \"content\": \"Arévalo was inaugurated as the 52nd president of Guatemala on 15 January 2024, at 12:20 am CT. His inauguration was scheduled to be on 14 January but was delayed following the failure of the event's overseeing commission to approve the event's congressional delegation. He is the first president to be the son of a former Guatemalan president and the second president to be born outside of Guatemalan territory (after Miguel García Granados).\\n\\n### First 100 days\\n\\n[edit] [...] 6. ^ \\\"Bernardo Arévalo se convierte en el candidato más votado de Guatemala\\\". Soy502 (in Spanish). Archived from the original on 22 August 2023. Retrieved 22 August 2023.\\n7. ^ \\\"Bernardo Arévalo sworn in as Guatemala's president despite months of efforts to derail inauguration\\\". Associated Press. 15 January 2024. Retrieved 14 August 2024. [...] On 7 April 2024, Arévalo dismissed Minister of Environment \\\"Ministry of Environment and Natural Resources (Guatemala)\\\") María José Iturbide. His decision came after a report was published by Vox Populi on 4 April, which revealed that María Fernanda Iturbide, daughter of Minister Iturbide, had used state vehicles for personal activities. The Secretary General of the Presidency published a statement on behalf of Arévalo, stating that the decision was made to \\\"avoid any doubt about the commitment\", \"score\": 0.9132521}, {\"title\": \"Guatemala: When Hope and Reality Collide | Freedom House\", \"url\": \"https://freedomhouse.org/article/guatemala-when-hope-and-reality-collide\", \"content\": \"It has been more than one year since Bernardo Arévalo, an outsider who ran a progressive, anticorruption, and antipoverty campaign, won Guatemala’s August 2023 presidential runoff election. Since winning, Arévalo faced several attempts to have the results overturned but nevertheless took office in January 2024 after steady protests by Indigenous movements and widespread international support and pressure. Arévalo also outlasted a nearly 10-hour delay and several last-minute attempts by the\", \"score\": 0.9008183}, {\"title\": \"Arévalo sworn in as Guatemala's president despite efforts to derail ...\", \"url\": \"https://www.npr.org/2024/01/15/1224761468/arevalo-guatemala-president\", \"content\": \"NPR logo\\n\\nNPR Music\\nNPR Music\\n\\n### The Americas\\n\\n# Arévalo sworn in as Guatemala's president despite efforts to derail his inauguration\\n\\nBy\\n\\nThe Associated Press\\n\\nIncoming Guatemalan President Bernardo Arévalo takes the oath of office during his swearing-in ceremony in Guatemala City, early Monday, Jan. 15, 2024.\\nMoises Castillo/AP\\nhide caption\\n\\nIncoming Guatemalan President Bernardo Arévalo takes the oath of office during his swearing-in ceremony in Guatemala City, early Monday, Jan. 15, 2024. [...] A supporter of Guatemalan President-elect Bernardo Arévalo celebrates that lawmakers voted for a Seed Movement member to be their new Congress president, Samuel Perez, as part of the process before Arévalo's swearing-in ceremony, outside the National Palace in Guatemala City, Sunday, Jan. 14, 2024.\\nSantiago Billy/AP\\nhide caption [...] A supporter of Guatemalan President-elect Bernardo Arévalo celebrates that lawmakers voted for a Seed Movement member to be their new Congress president, Samuel Perez, as part of the process before Arévalo's swearing-in ceremony, outside the National Palace in Guatemala City, Sunday, Jan. 14, 2024.\\n\\n\\\"If they don't swear him in, we, the people, will swear him in,\\\" said one of the demonstrators, Dina Juc, the mayor of the indigenous village of Utatlàn Sololá.\", \"score\": 0.8963332}]\n",
      "==================================\u001b[1m Ai Message \u001b[0m==================================\n",
      "\n",
      "**Bernardo Arévalo** is the current president of Guatemala.  \n",
      "He was inaugurated on **15 January 2024** (the 52nd president of the Republic) and serves a four‑year term alongside Vice‑President Karin Herrera.\n"
     ]
    }
   ],
   "source": [
    "messages = graph.invoke({\"messages\":[HumanMessage(content=\"Current Guatemala's president\")]})\n",
    "for message in messages['messages']:\n",
    "    message.pretty_print()"
   ]
  },
  {
   "cell_type": "code",
   "execution_count": 32,
   "id": "44b189da",
   "metadata": {},
   "outputs": [
    {
     "name": "stdout",
     "output_type": "stream",
     "text": [
      "================================\u001b[1m Human Message \u001b[0m=================================\n",
      "\n",
      "What's 10 divided by 3\n",
      "==================================\u001b[1m Ai Message \u001b[0m==================================\n",
      "\n",
      "10 divided by 3 is approximately **3.333 333 333 …** (i.e., 3 ⅓).\n"
     ]
    }
   ],
   "source": [
    "messages = graph.invoke({\"messages\":[HumanMessage(content=\"What's 10 divided by 3\")]})\n",
    "for message in messages['messages']:\n",
    "    message.pretty_print()"
   ]
  },
  {
   "cell_type": "code",
   "execution_count": null,
   "id": "cdadca3b",
   "metadata": {},
   "outputs": [],
   "source": []
  },
  {
   "cell_type": "code",
   "execution_count": null,
   "id": "b64fabac",
   "metadata": {},
   "outputs": [],
   "source": []
  },
  {
   "cell_type": "code",
   "execution_count": null,
   "id": "cc1bbcb6",
   "metadata": {},
   "outputs": [],
   "source": []
  },
  {
   "cell_type": "code",
   "execution_count": null,
   "id": "e3dfb0b9",
   "metadata": {},
   "outputs": [],
   "source": []
  },
  {
   "cell_type": "code",
   "execution_count": null,
   "id": "641b6b65",
   "metadata": {},
   "outputs": [],
   "source": []
  },
  {
   "cell_type": "code",
   "execution_count": null,
   "id": "cc433506",
   "metadata": {},
   "outputs": [],
   "source": []
  },
  {
   "cell_type": "code",
   "execution_count": null,
   "id": "c0db8d45",
   "metadata": {},
   "outputs": [],
   "source": []
  },
  {
   "cell_type": "code",
   "execution_count": null,
   "id": "a3304cd9",
   "metadata": {},
   "outputs": [],
   "source": []
  },
  {
   "cell_type": "code",
   "execution_count": null,
   "id": "3c9cb8f6",
   "metadata": {},
   "outputs": [],
   "source": []
  }
 ],
 "metadata": {
  "kernelspec": {
   "display_name": ".venv",
   "language": "python",
   "name": "python3"
  },
  "language_info": {
   "codemirror_mode": {
    "name": "ipython",
    "version": 3
   },
   "file_extension": ".py",
   "mimetype": "text/x-python",
   "name": "python",
   "nbconvert_exporter": "python",
   "pygments_lexer": "ipython3",
   "version": "3.13.7"
  }
 },
 "nbformat": 4,
 "nbformat_minor": 5
}
