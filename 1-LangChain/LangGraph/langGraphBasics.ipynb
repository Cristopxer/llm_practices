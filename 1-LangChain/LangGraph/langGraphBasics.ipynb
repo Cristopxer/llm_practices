{
 "cells": [
  {
   "cell_type": "markdown",
   "id": "c99d76c9",
   "metadata": {},
   "source": [
    "### State"
   ]
  },
  {
   "cell_type": "code",
   "execution_count": 3,
   "id": "37b9b111",
   "metadata": {},
   "outputs": [],
   "source": [
    "from typing_extensions import TypedDict\n",
    "\n",
    "class State(TypedDict):\n",
    "    graph_info:str"
   ]
  },
  {
   "cell_type": "markdown",
   "id": "259dc684",
   "metadata": {},
   "source": [
    "### Nodes"
   ]
  },
  {
   "cell_type": "code",
   "execution_count": 5,
   "id": "bf2fa3ad",
   "metadata": {},
   "outputs": [],
   "source": [
    "def start_play(state:State):\n",
    "    print(\"start_play node has been called\")\n",
    "    return {\"graph_info\": state[\"graph_info\"] + \"I am planning to play\"}"
   ]
  },
  {
   "cell_type": "code",
   "execution_count": 6,
   "id": "0637da16",
   "metadata": {},
   "outputs": [],
   "source": [
    "def badminton(state:State):\n",
    "    print(\"Badminton node has been called\")\n",
    "    return {\"graph_info\": state[\"graph_info\"] + \" badminton\"}"
   ]
  },
  {
   "cell_type": "code",
   "execution_count": 7,
   "id": "5266f480",
   "metadata": {},
   "outputs": [],
   "source": [
    "def cricket(state:State):\n",
    "    print(\"Cricket node has been called\")\n",
    "    return {\"graph_info\": state[\"graph_info\"] + \" cricket\"}"
   ]
  },
  {
   "cell_type": "code",
   "execution_count": 8,
   "id": "6c201233",
   "metadata": {},
   "outputs": [],
   "source": [
    "import random\n",
    "from typing import Literal\n",
    "\n",
    "def random_play(state:State)-> Literal['cricket','badminton']:\n",
    "    graph_info = state['graph_info']\n",
    "\n",
    "    if random.random() > 0.5:\n",
    "        return 'cricket'\n",
    "    else: \n",
    "        return 'badminton'"
   ]
  },
  {
   "cell_type": "markdown",
   "id": "35a17d00",
   "metadata": {},
   "source": [
    "### Graph construction"
   ]
  },
  {
   "cell_type": "code",
   "execution_count": 14,
   "id": "6f893acb",
   "metadata": {},
   "outputs": [
    {
     "data": {
      "image/png": "[encoded data removed]",
      "text/plain": [
       "<IPython.core.display.Image object>"
      ]
     },
     "metadata": {},
     "output_type": "display_data"
    }
   ],
   "source": [
    "from IPython.display import Image, display\n",
    "from langgraph.graph import StateGraph, START, END\n",
    "\n",
    "## Build Graph\n",
    "graph = StateGraph(State)\n",
    "\n",
    "## Adding nodes\n",
    "graph.add_node(\"start_play\", start_play)\n",
    "graph.add_node(\"cricket\", cricket)\n",
    "graph.add_node(\"badminton\", badminton)\n",
    "\n",
    "## Schedule the flow of the graph\n",
    "graph.add_edge(START,\"start_play\")\n",
    "graph.add_conditional_edges(\"start_play\", random_play)\n",
    "graph.add_edge(\"cricket\", END)\n",
    "graph.add_edge(\"badminton\", END)\n",
    "\n",
    "## Compile the graph\n",
    "graph_builder = graph.compile()\n",
    "\n",
    "## View\n",
    "display(Image(graph_builder.get_graph().draw_mermaid_png()))\n"
   ]
  },
  {
   "cell_type": "markdown",
   "id": "54abff92",
   "metadata": {},
   "source": [
    "### Graph Invocation"
   ]
  },
  {
   "cell_type": "code",
   "execution_count": 27,
   "id": "37be2a2d",
   "metadata": {},
   "outputs": [
    {
     "name": "stdout",
     "output_type": "stream",
     "text": [
      "start_play node has been called\n",
      "Cricket node has been called\n"
     ]
    },
    {
     "data": {
      "text/plain": [
       "{'graph_info': 'Hey my name is Chris I am planning to play cricket'}"
      ]
     },
     "execution_count": 27,
     "metadata": {},
     "output_type": "execute_result"
    }
   ],
   "source": [
    "graph_builder.invoke({\"graph_info\":\"Hey my name is Chris \"})"
   ]
  },
  {
   "cell_type": "markdown",
   "id": "c2b6b8b8",
   "metadata": {},
   "source": [
    "## LangGraph Simple Chatbot"
   ]
  },
  {
   "cell_type": "code",
   "execution_count": 12,
   "id": "f210e030",
   "metadata": {},
   "outputs": [],
   "source": [
    "from typing_extensions import TypedDict\n",
    "from langgraph.graph import StateGraph, START, END\n",
    "\n",
    "# Reducer\n",
    "from typing import Annotated\n",
    "from langgraph.graph.message import add_messages\n",
    "\n",
    "from dotenv import load_dotenv\n",
    "import os\n",
    "load_dotenv(\"./.env\")\n",
    "\n",
    "from langchain_openai import AzureChatOpenAI\n",
    "from langchain_groq import ChatGroq\n",
    "\n",
    "from IPython.display import display, Image\n",
    "\n",
    "os.environ[\"OPENAI_API_VERSION\"] = \"2023-12-01-preview\"\n",
    "os.environ[\"AZURE_OPENAI_ENDPOINT\"] = os.getenv(\"OPENAI_API_END\")\n",
    "os.environ[\"AZURE_OPENAI_API_KEY\"] = os.getenv(\"OPENAI_API_KEY\")\n",
    "os.environ['GROQ_API_KEY'] = os.getenv(\"GROQ_API_KEY\")"
   ]
  },
  {
   "cell_type": "code",
   "execution_count": 2,
   "id": "e059e90c",
   "metadata": {},
   "outputs": [],
   "source": [
    "llm = AzureChatOpenAI(\n",
    "    model=\"gpt-4o-mini\"\n",
    ")"
   ]
  },
  {
   "cell_type": "code",
   "execution_count": 6,
   "id": "43f9e3b9",
   "metadata": {},
   "outputs": [],
   "source": [
    "llm_groq = ChatGroq(model=\"openai/gpt-oss-20b\")"
   ]
  },
  {
   "cell_type": "code",
   "execution_count": 9,
   "id": "75be1bb9",
   "metadata": {},
   "outputs": [],
   "source": [
    "class State(TypedDict):\n",
    "    messages:Annotated[list,add_messages]"
   ]
  },
  {
   "cell_type": "markdown",
   "id": "69bc8928",
   "metadata": {},
   "source": [
    "### Nodes"
   ]
  },
  {
   "cell_type": "code",
   "execution_count": 10,
   "id": "a9a864d2",
   "metadata": {},
   "outputs": [],
   "source": [
    "def superbot(state:State):\n",
    "    return {\"messages\":[llm_groq.invoke(state['messages'])]}"
   ]
  },
  {
   "cell_type": "code",
   "execution_count": 13,
   "id": "18d6ccfa",
   "metadata": {},
   "outputs": [
    {
     "data": {
      "image/png": "[encoded data removed]",
      "text/plain": [
       "<IPython.core.display.Image object>"
      ]
     },
     "metadata": {},
     "output_type": "display_data"
    }
   ],
   "source": [
    "graph = StateGraph(State)\n",
    "\n",
    "# Nodes\n",
    "graph.add_node(\"superbot\", superbot)\n",
    "\n",
    "# Edges\n",
    "graph.add_edge(START, \"superbot\")\n",
    "graph.add_edge(\"superbot\", END)\n",
    "\n",
    "# Compile\n",
    "graph_builder = graph.compile()\n",
    "\n",
    "display(Image(graph_builder.get_graph().draw_mermaid_png()))"
   ]
  },
  {
   "cell_type": "code",
   "execution_count": 15,
   "id": "39f5740d",
   "metadata": {},
   "outputs": [
    {
     "data": {
      "text/plain": [
       "{'messages': [HumanMessage(content='Hi, my name is Cris and I love soccer', additional_kwargs={}, response_metadata={}, id='8b410d92-cdf8-4e7e-9301-2588985d8c3a'),\n",
       "  AIMessage(content='Hey Cris! 👋🏼 It’s awesome to meet another soccer fan. What’s your favorite team or league? Do you have a favorite player you’re rooting for right now? I’d love to hear about your soccer adventures! ⚽️', additional_kwargs={'reasoning_content': 'We need to respond warmly, ask about soccer, maybe about teams, favorite player, etc.'}, response_metadata={'token_usage': {'completion_tokens': 78, 'prompt_tokens': 81, 'total_tokens': 159, 'completion_time': 0.077562762, 'prompt_time': 0.003949277, 'queue_time': 0.201397643, 'total_time': 0.081512039}, 'model_name': 'openai/gpt-oss-20b', 'system_fingerprint': 'fp_c5a89987dc', 'service_tier': 'on_demand', 'finish_reason': 'stop', 'logprobs': None}, id='run--e96efb62-8168-4b4c-934c-e5cc7f25d42a-0', usage_metadata={'input_tokens': 81, 'output_tokens': 78, 'total_tokens': 159})]}"
      ]
     },
     "execution_count": 15,
     "metadata": {},
     "output_type": "execute_result"
    }
   ],
   "source": [
    "graph_builder.invoke({\"messages\":\"Hi, my name is Cris and I love soccer\"})"
   ]
  },
  {
   "cell_type": "markdown",
   "id": "b6148bbe",
   "metadata": {},
   "source": [
    "### Streaming responses"
   ]
  },
  {
   "cell_type": "code",
   "execution_count": 19,
   "id": "e8478098",
   "metadata": {},
   "outputs": [
    {
     "name": "stdout",
     "output_type": "stream",
     "text": [
      "{'superbot': {'messages': [AIMessage(content='Hey Cris! It’s great to meet a fellow basketball fan. What’s your favorite team, and do you usually watch the games live or catch them on TV? If you’re into the NBA, there are so many exciting players and matchups—maybe you’ve got a favorite player too!', additional_kwargs={'reasoning_content': 'The user says: \"Hello, my name is Cris and I love basquetball\". They are greeting and sharing a fact. The system says we should respond in a friendly manner, ask about their favorite team or something. Also we must not mention policies. Just a friendly chat.'}, response_metadata={'token_usage': {'completion_tokens': 126, 'prompt_tokens': 83, 'total_tokens': 209, 'completion_time': 0.159955674, 'prompt_time': 0.00450915, 'queue_time': 0.199796359, 'total_time': 0.164464824}, 'model_name': 'openai/gpt-oss-20b', 'system_fingerprint': 'fp_77f8660d1d', 'service_tier': 'on_demand', 'finish_reason': 'stop', 'logprobs': None}, id='run--adbc6200-95da-4610-96f4-3991dd040c59-0', usage_metadata={'input_tokens': 83, 'output_tokens': 126, 'total_tokens': 209})]}}\n"
     ]
    }
   ],
   "source": [
    "for event in graph_builder.stream({\"messages\":\"Hello, my name is Cris and I love basquetball\"}, stream_mode=\"updates\"):\n",
    "    print(event)"
   ]
  },
  {
   "cell_type": "code",
   "execution_count": null,
   "id": "e4c6caf7",
   "metadata": {},
   "outputs": [],
   "source": []
  },
  {
   "cell_type": "code",
   "execution_count": null,
   "id": "38e95d65",
   "metadata": {},
   "outputs": [],
   "source": []
  },
  {
   "cell_type": "code",
   "execution_count": null,
   "id": "5ed8be58",
   "metadata": {},
   "outputs": [],
   "source": []
  },
  {
   "cell_type": "code",
   "execution_count": null,
   "id": "df1bb077",
   "metadata": {},
   "outputs": [],
   "source": []
  },
  {
   "cell_type": "code",
   "execution_count": null,
   "id": "9f87ee6c",
   "metadata": {},
   "outputs": [],
   "source": []
  },
  {
   "cell_type": "code",
   "execution_count": null,
   "id": "1c526500",
   "metadata": {},
   "outputs": [],
   "source": []
  },
  {
   "cell_type": "code",
   "execution_count": null,
   "id": "6c5a4b91",
   "metadata": {},
   "outputs": [],
   "source": []
  },
  {
   "cell_type": "code",
   "execution_count": null,
   "id": "179371ba",
   "metadata": {},
   "outputs": [],
   "source": []
  },
  {
   "cell_type": "code",
   "execution_count": null,
   "id": "ebec36e9",
   "metadata": {},
   "outputs": [],
   "source": []
  },
  {
   "cell_type": "code",
   "execution_count": null,
   "id": "8281b0d9",
   "metadata": {},
   "outputs": [],
   "source": []
  },
  {
   "cell_type": "code",
   "execution_count": null,
   "id": "246eabbe",
   "metadata": {},
   "outputs": [],
   "source": []
  }
 ],
 "metadata": {
  "kernelspec": {
   "display_name": "venv",
   "language": "python",
   "name": "python3"
  },
  "language_info": {
   "codemirror_mode": {
    "name": "ipython",
    "version": 3
   },
   "file_extension": ".py",
   "mimetype": "text/x-python",
   "name": "python",
   "nbconvert_exporter": "python",
   "pygments_lexer": "ipython3",
   "version": "3.12.11"
  }
 },
 "nbformat": 4,
 "nbformat_minor": 5
}
